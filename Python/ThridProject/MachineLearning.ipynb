{
 "cells": [
  {
   "cell_type": "code",
   "execution_count": 120,
   "metadata": {},
   "outputs": [
    {
     "data": {
      "text/html": [
       "<div>\n",
       "<style scoped>\n",
       "    .dataframe tbody tr th:only-of-type {\n",
       "        vertical-align: middle;\n",
       "    }\n",
       "\n",
       "    .dataframe tbody tr th {\n",
       "        vertical-align: top;\n",
       "    }\n",
       "\n",
       "    .dataframe thead th {\n",
       "        text-align: right;\n",
       "    }\n",
       "</style>\n",
       "<table border=\"1\" class=\"dataframe\">\n",
       "  <thead>\n",
       "    <tr style=\"text-align: right;\">\n",
       "      <th></th>\n",
       "      <th>index</th>\n",
       "      <th>gender</th>\n",
       "      <th>car</th>\n",
       "      <th>reality</th>\n",
       "      <th>child_num</th>\n",
       "      <th>income_total</th>\n",
       "      <th>income_type</th>\n",
       "      <th>edu_type</th>\n",
       "      <th>family_type</th>\n",
       "      <th>house_type</th>\n",
       "      <th>DAYS_BIRTH</th>\n",
       "      <th>DAYS_EMPLOYED</th>\n",
       "      <th>FLAG_MOBIL</th>\n",
       "      <th>work_phone</th>\n",
       "      <th>phone</th>\n",
       "      <th>email</th>\n",
       "      <th>family_size</th>\n",
       "      <th>begin_month</th>\n",
       "      <th>credit</th>\n",
       "    </tr>\n",
       "  </thead>\n",
       "  <tbody>\n",
       "    <tr>\n",
       "      <th>0</th>\n",
       "      <td>0</td>\n",
       "      <td>0</td>\n",
       "      <td>0</td>\n",
       "      <td>0</td>\n",
       "      <td>0</td>\n",
       "      <td>0</td>\n",
       "      <td>0</td>\n",
       "      <td>1</td>\n",
       "      <td>1</td>\n",
       "      <td>2</td>\n",
       "      <td>3</td>\n",
       "      <td>1</td>\n",
       "      <td>1</td>\n",
       "      <td>0</td>\n",
       "      <td>0</td>\n",
       "      <td>0</td>\n",
       "      <td>2.0</td>\n",
       "      <td>0</td>\n",
       "      <td>1.0</td>\n",
       "    </tr>\n",
       "    <tr>\n",
       "      <th>1</th>\n",
       "      <td>1</td>\n",
       "      <td>0</td>\n",
       "      <td>0</td>\n",
       "      <td>1</td>\n",
       "      <td>1</td>\n",
       "      <td>0</td>\n",
       "      <td>0</td>\n",
       "      <td>4</td>\n",
       "      <td>0</td>\n",
       "      <td>1</td>\n",
       "      <td>2</td>\n",
       "      <td>1</td>\n",
       "      <td>1</td>\n",
       "      <td>0</td>\n",
       "      <td>0</td>\n",
       "      <td>1</td>\n",
       "      <td>3.0</td>\n",
       "      <td>0</td>\n",
       "      <td>1.0</td>\n",
       "    </tr>\n",
       "    <tr>\n",
       "      <th>2</th>\n",
       "      <td>2</td>\n",
       "      <td>1</td>\n",
       "      <td>1</td>\n",
       "      <td>1</td>\n",
       "      <td>0</td>\n",
       "      <td>1</td>\n",
       "      <td>4</td>\n",
       "      <td>1</td>\n",
       "      <td>1</td>\n",
       "      <td>1</td>\n",
       "      <td>6</td>\n",
       "      <td>1</td>\n",
       "      <td>1</td>\n",
       "      <td>0</td>\n",
       "      <td>1</td>\n",
       "      <td>0</td>\n",
       "      <td>2.0</td>\n",
       "      <td>1</td>\n",
       "      <td>2.0</td>\n",
       "    </tr>\n",
       "    <tr>\n",
       "      <th>3</th>\n",
       "      <td>3</td>\n",
       "      <td>0</td>\n",
       "      <td>0</td>\n",
       "      <td>1</td>\n",
       "      <td>0</td>\n",
       "      <td>0</td>\n",
       "      <td>0</td>\n",
       "      <td>4</td>\n",
       "      <td>1</td>\n",
       "      <td>1</td>\n",
       "      <td>4</td>\n",
       "      <td>1</td>\n",
       "      <td>1</td>\n",
       "      <td>0</td>\n",
       "      <td>1</td>\n",
       "      <td>0</td>\n",
       "      <td>2.0</td>\n",
       "      <td>2</td>\n",
       "      <td>0.0</td>\n",
       "    </tr>\n",
       "    <tr>\n",
       "      <th>4</th>\n",
       "      <td>4</td>\n",
       "      <td>0</td>\n",
       "      <td>1</td>\n",
       "      <td>1</td>\n",
       "      <td>0</td>\n",
       "      <td>0</td>\n",
       "      <td>2</td>\n",
       "      <td>1</td>\n",
       "      <td>1</td>\n",
       "      <td>1</td>\n",
       "      <td>4</td>\n",
       "      <td>1</td>\n",
       "      <td>1</td>\n",
       "      <td>0</td>\n",
       "      <td>0</td>\n",
       "      <td>0</td>\n",
       "      <td>2.0</td>\n",
       "      <td>1</td>\n",
       "      <td>2.0</td>\n",
       "    </tr>\n",
       "  </tbody>\n",
       "</table>\n",
       "</div>"
      ],
      "text/plain": [
       "   index  gender  car  reality  child_num  income_total  income_type  \\\n",
       "0      0       0    0        0          0             0            0   \n",
       "1      1       0    0        1          1             0            0   \n",
       "2      2       1    1        1          0             1            4   \n",
       "3      3       0    0        1          0             0            0   \n",
       "4      4       0    1        1          0             0            2   \n",
       "\n",
       "   edu_type  family_type  house_type  DAYS_BIRTH  DAYS_EMPLOYED  FLAG_MOBIL  \\\n",
       "0         1            1           2           3              1           1   \n",
       "1         4            0           1           2              1           1   \n",
       "2         1            1           1           6              1           1   \n",
       "3         4            1           1           4              1           1   \n",
       "4         1            1           1           4              1           1   \n",
       "\n",
       "   work_phone  phone  email  family_size  begin_month  credit  \n",
       "0           0      0      0          2.0            0     1.0  \n",
       "1           0      0      1          3.0            0     1.0  \n",
       "2           0      1      0          2.0            1     2.0  \n",
       "3           0      1      0          2.0            2     0.0  \n",
       "4           0      0      0          2.0            1     2.0  "
      ]
     },
     "execution_count": 120,
     "metadata": {},
     "output_type": "execute_result"
    }
   ],
   "source": [
    "import pandas as pd\n",
    "import numpy as np\n",
    "import matplotlib.pyplot as plt\n",
    "import seaborn as sns\n",
    "import xgboost as xgb #XGBoost\n",
    "%matplotlib inline\n",
    "import warnings\n",
    "warnings.filterwarnings('ignore')\n",
    "\n",
    "from sklearn import metrics\n",
    "from sklearn import preprocessing\n",
    "from sklearn import datasets\n",
    "\n",
    "from sklearn import tree #의사결정나무\n",
    "from sklearn.ensemble import VotingClassifier\n",
    "from sklearn.metrics import classification_report\n",
    "from sklearn.metrics import confusion_matrix, accuracy_score, precision_score, recall_score\n",
    "from sklearn.metrics import f1_score, roc_auc_score\n",
    "\n",
    "from sklearn.model_selection import GridSearchCV #GridSearch를 통해 최적의 파라미터를 찾아냄\n",
    "from sklearn.model_selection import cross_val_score\n",
    "from sklearn.model_selection import train_test_split\n",
    "from sklearn.neighbors import KNeighborsClassifier #KNN\n",
    "from sklearn.naive_bayes import GaussianNB #가우시안 나이브 베이즈\n",
    "\n",
    "from sklearn.preprocessing import MinMaxScaler #스케일링 라이브러리\n",
    "from sklearn.preprocessing import Normalizer\n",
    "from sklearn.preprocessing import RobustScaler\n",
    "from sklearn.svm import SVC\n",
    "\n",
    "from xgboost import plot_importance #XGBoost를 사용시 Feature Importance를 불러오기 위함\n",
    "from xgboost import XGBClassifier #XGBoost 분류기\n",
    "\n",
    "# 데이터를 수집합니다.\n",
    "train = pd.read_csv(\"C:/Users/tjoeun709-17/Desktop/open/train2.csv\")\n",
    "# 수집된 데이터 샘플을 확인합니다.\n",
    "train.head()"
   ]
  },
  {
   "cell_type": "code",
   "execution_count": 12,
   "metadata": {},
   "outputs": [
    {
     "data": {
      "text/plain": [
       "2.0    16968\n",
       "1.0     6267\n",
       "0.0     3222\n",
       "Name: credit, dtype: int64"
      ]
     },
     "execution_count": 12,
     "metadata": {},
     "output_type": "execute_result"
    }
   ],
   "source": [
    "# 현재 데이터에서 신용등급의 개수를 확인\n",
    "train.credit.value_counts()"
   ]
  },
  {
   "cell_type": "code",
   "execution_count": 13,
   "metadata": {},
   "outputs": [
    {
     "data": {
      "text/plain": [
       "0    16410\n",
       "1    10047\n",
       "Name: car, dtype: int64"
      ]
     },
     "execution_count": 13,
     "metadata": {},
     "output_type": "execute_result"
    }
   ],
   "source": [
    "train.car.value_counts()"
   ]
  },
  {
   "cell_type": "code",
   "execution_count": 14,
   "metadata": {},
   "outputs": [
    {
     "data": {
      "text/plain": [
       "1    17830\n",
       "0     8627\n",
       "Name: reality, dtype: int64"
      ]
     },
     "execution_count": 14,
     "metadata": {},
     "output_type": "execute_result"
    }
   ],
   "source": [
    "train.reality.value_counts()"
   ]
  },
  {
   "cell_type": "code",
   "execution_count": 5,
   "metadata": {},
   "outputs": [
    {
     "data": {
      "text/plain": [
       "Text(0.5,1,'reality and car in 2d plane')"
      ]
     },
     "execution_count": 5,
     "metadata": {},
     "output_type": "execute_result"
    },
    {
     "data": {
      "image/png": "[encoded data removed]",
      "text/plain": [
       "<Figure size 411.875x360 with 1 Axes>"
      ]
     },
     "metadata": {
      "needs_background": "light"
     },
     "output_type": "display_data"
    },
    {
     "data": {
      "image/png": "[encoded data removed]",
      "text/plain": [
       "<Figure size 411.875x360 with 1 Axes>"
      ]
     },
     "metadata": {
      "needs_background": "light"
     },
     "output_type": "display_data"
    }
   ],
   "source": [
    "sns.lmplot('income_total', 'begin_month', data=train, fit_reg=False, # x축, y축, 데이터, 노 라인\n",
    "           scatter_kws={\"s\":150}, # 좌표 상의 점의 크기\n",
    "           markers=[\"o\", \"x\", \"*\"],\n",
    "          hue=\"credit\") # 예측값\n",
    "# 타이틀\n",
    "plt.title('income_total and begin_month_num in 2d plane')\n",
    "\n",
    "\n",
    "sns.lmplot('DAYS_BIRTH', 'DAYS_EMPLOYED', data=train, fit_reg=False, # x축, y축, 데이터, 노 라인\n",
    "           scatter_kws={\"s\":150}, # 좌표 상의 점의 크기\n",
    "           markers=[\"o\", \"x\", \"*\"],\n",
    "          hue=\"credit\") # 예측값\n",
    "# 타이틀\n",
    "plt.title('reality and car in 2d plane')"
   ]
  },
  {
   "cell_type": "markdown",
   "metadata": {},
   "source": [
    "#이산형 변수 확인."
   ]
  },
  {
   "cell_type": "code",
   "execution_count": 121,
   "metadata": {},
   "outputs": [],
   "source": [
    "#사이킷런의 train_test_split을 사용, 데이터 나누기\n",
    "from sklearn.model_selection import train_test_split\n",
    "# 다듬어진 데이터에서 10%를 테스트 데이터로 분류\n",
    "train_set, test_set = train_test_split(train, test_size=0.1)"
   ]
  },
  {
   "cell_type": "code",
   "execution_count": 16,
   "metadata": {},
   "outputs": [
    {
     "data": {
      "text/plain": [
       "23811"
      ]
     },
     "execution_count": 16,
     "metadata": {},
     "output_type": "execute_result"
    }
   ],
   "source": [
    "train_set.shape[0]"
   ]
  },
  {
   "cell_type": "code",
   "execution_count": 17,
   "metadata": {},
   "outputs": [
    {
     "data": {
      "text/plain": [
       "2646"
      ]
     },
     "execution_count": 17,
     "metadata": {},
     "output_type": "execute_result"
    }
   ],
   "source": [
    "test_set.shape[0]"
   ]
  },
  {
   "cell_type": "code",
   "execution_count": 122,
   "metadata": {},
   "outputs": [],
   "source": [
    "#스케일 적용, 0 ~ 1 사이 값으로 변환하여 정확도를 향상시킬 것으로 기대\n",
    "scaler = MinMaxScaler()\n",
    "\n",
    "# 테스트 데이터에서 분류를 위해 사용도리 속성을 지정\n",
    "x_train = train_set[['gender', 'car', 'reality', 'edu_type', 'family_type', 'child_num', 'income_total', 'DAYS_BIRTH', 'DAYS_EMPLOYED',\n",
    "                  'FLAG_MOBIL', 'work_phone', 'phone', 'email', 'family_size', 'income_type',\n",
    "                  'begin_month', 'house_type']] #여기에 분별력이 있는 컬럼들을 써줘야 한다.\n",
    "\n",
    "y_train = train_set[['credit']]\n",
    "\n",
    "x_train_scale = scaler.fit_transform(x_train)\n",
    "\n",
    "# 테스트 데이터에서 분류를 위해 사용도리 속성을 지정\n",
    "x_test = test_set[['gender', 'car', 'reality', 'edu_type', 'family_type', 'child_num', 'income_total', 'DAYS_BIRTH', 'DAYS_EMPLOYED',\n",
    "                  'FLAG_MOBIL', 'work_phone', 'phone', 'email', 'family_size', 'income_type',\n",
    "                  'begin_month', 'house_type']]\n",
    "\n",
    "# 정답을 지정\n",
    "y_test = test_set[['credit']]\n",
    "\n",
    "x_test_scale = scaler.fit_transform(x_test)"
   ]
  },
  {
   "cell_type": "code",
   "execution_count": 38,
   "metadata": {},
   "outputs": [
    {
     "data": {
      "text/plain": [
       "[0.6409642739135142,\n",
       " 0.6409642739135142,\n",
       " 0.6409642739135142,\n",
       " 0.6409642739135142,\n",
       " 0.6409642739135142]"
      ]
     },
     "execution_count": 38,
     "metadata": {},
     "output_type": "execute_result"
    }
   ],
   "source": [
    "# 최적의 k를 찾기 위해 교차 검증을 수행할 k의 범위를 학습 데이터 절반까지 지정\n",
    "max_k_range = train_set.shape[0] // 2\n",
    "\n",
    "#정확도 값을 저장하기 위한 리스트 초기화\n",
    "k_list = []\n",
    "\n",
    "#학습 범위는 2000개\n",
    "for i in range(2000, max_k_range, 2000):\n",
    "    k_list.append(i)\n",
    "    \n",
    "cross_validation_scores = []\n",
    "\n",
    "\n",
    "# 교차 검증(10-fold)을 각 k를 대상으로 수행해 검증 결과를 저장\n",
    "for k in k_list:\n",
    "    knn = KNeighborsClassifier(n_neighbors=k)\n",
    "    scores = cross_val_score(knn, x_train_scale, y_train.values.ravel(), cv=10,\n",
    "                                            scoring='accuracy')\n",
    "    cross_validation_scores.append(scores.mean())\n",
    "    \n",
    "cross_validation_scores"
   ]
  },
  {
   "cell_type": "code",
   "execution_count": 39,
   "metadata": {},
   "outputs": [
    {
     "data": {
      "image/png": "[encoded data removed]",
      "text/plain": [
       "<Figure size 432x288 with 1 Axes>"
      ]
     },
     "metadata": {
      "needs_background": "light"
     },
     "output_type": "display_data"
    }
   ],
   "source": [
    "# k에 따른 정확도를 시각화\n",
    "plt.plot(k_list, cross_validation_scores)\n",
    "plt.xlabel('the number of k')\n",
    "plt.ylabel('Accuracy')\n",
    "plt.show()"
   ]
  },
  {
   "cell_type": "code",
   "execution_count": 40,
   "metadata": {},
   "outputs": [
    {
     "name": "stdout",
     "output_type": "stream",
     "text": [
      "The best number of k : 2000\n"
     ]
    }
   ],
   "source": [
    "# 가장 예측율이 높은 k를 선정\n",
    "k = k_list[cross_validation_scores.index(max(cross_validation_scores))]\n",
    "print(\"The best number of k : \" + str(k))"
   ]
  },
  {
   "cell_type": "code",
   "execution_count": 41,
   "metadata": {},
   "outputs": [
    {
     "name": "stdout",
     "output_type": "stream",
     "text": [
      "accuracy : 0.6447467876039304\n"
     ]
    }
   ],
   "source": [
    "\n",
    "# 학습에 사용될 속성을 지정\n",
    "# x_train = train_set[['gender', 'car', 'reality', 'edu_type', 'family_type', 'child_num', 'income_total', 'DAYS_BIRTH', 'DAYS_EMPLOYED',\n",
    "#                   'FLAG_MOBIL', 'work_phone', 'phone', 'email', 'family_size', 'income_type',\n",
    "#                   'begin_month', 'house_type']]\n",
    "\n",
    "#x_train_scale = scaler.fit_transform(x_train)\n",
    "\n",
    "# 예측할 값으로 지정\n",
    "# y_train = train_set[['credit']]\n",
    "\n",
    "# knn 모델 학습\n",
    "knn.fit(x_train_scale, y_train.values.ravel())\n",
    "\n",
    "# 테스트 시작\n",
    "pred = knn.predict(x_test_scale)\n",
    "\n",
    "# 모델 예측 정확도(accuracy) 출력\n",
    "print(\"accuracy : \" + str( accuracy_score(y_test.values.ravel(), pred)) )"
   ]
  },
  {
   "cell_type": "code",
   "execution_count": 42,
   "metadata": {},
   "outputs": [
    {
     "data": {
      "text/html": [
       "<div>\n",
       "<style scoped>\n",
       "    .dataframe tbody tr th:only-of-type {\n",
       "        vertical-align: middle;\n",
       "    }\n",
       "\n",
       "    .dataframe tbody tr th {\n",
       "        vertical-align: top;\n",
       "    }\n",
       "\n",
       "    .dataframe thead th {\n",
       "        text-align: right;\n",
       "    }\n",
       "</style>\n",
       "<table border=\"1\" class=\"dataframe\">\n",
       "  <thead>\n",
       "    <tr style=\"text-align: right;\">\n",
       "      <th></th>\n",
       "      <th>prediction</th>\n",
       "      <th>ground_truth</th>\n",
       "    </tr>\n",
       "  </thead>\n",
       "  <tbody>\n",
       "    <tr>\n",
       "      <th>0</th>\n",
       "      <td>2.0</td>\n",
       "      <td>1.0</td>\n",
       "    </tr>\n",
       "    <tr>\n",
       "      <th>1</th>\n",
       "      <td>2.0</td>\n",
       "      <td>2.0</td>\n",
       "    </tr>\n",
       "    <tr>\n",
       "      <th>2</th>\n",
       "      <td>2.0</td>\n",
       "      <td>2.0</td>\n",
       "    </tr>\n",
       "    <tr>\n",
       "      <th>3</th>\n",
       "      <td>2.0</td>\n",
       "      <td>2.0</td>\n",
       "    </tr>\n",
       "    <tr>\n",
       "      <th>4</th>\n",
       "      <td>2.0</td>\n",
       "      <td>1.0</td>\n",
       "    </tr>\n",
       "    <tr>\n",
       "      <th>...</th>\n",
       "      <td>...</td>\n",
       "      <td>...</td>\n",
       "    </tr>\n",
       "    <tr>\n",
       "      <th>2641</th>\n",
       "      <td>2.0</td>\n",
       "      <td>2.0</td>\n",
       "    </tr>\n",
       "    <tr>\n",
       "      <th>2642</th>\n",
       "      <td>2.0</td>\n",
       "      <td>2.0</td>\n",
       "    </tr>\n",
       "    <tr>\n",
       "      <th>2643</th>\n",
       "      <td>2.0</td>\n",
       "      <td>2.0</td>\n",
       "    </tr>\n",
       "    <tr>\n",
       "      <th>2644</th>\n",
       "      <td>2.0</td>\n",
       "      <td>2.0</td>\n",
       "    </tr>\n",
       "    <tr>\n",
       "      <th>2645</th>\n",
       "      <td>2.0</td>\n",
       "      <td>2.0</td>\n",
       "    </tr>\n",
       "  </tbody>\n",
       "</table>\n",
       "<p>2646 rows × 2 columns</p>\n",
       "</div>"
      ],
      "text/plain": [
       "      prediction  ground_truth\n",
       "0            2.0           1.0\n",
       "1            2.0           2.0\n",
       "2            2.0           2.0\n",
       "3            2.0           2.0\n",
       "4            2.0           1.0\n",
       "...          ...           ...\n",
       "2641         2.0           2.0\n",
       "2642         2.0           2.0\n",
       "2643         2.0           2.0\n",
       "2644         2.0           2.0\n",
       "2645         2.0           2.0\n",
       "\n",
       "[2646 rows x 2 columns]"
      ]
     },
     "execution_count": 42,
     "metadata": {},
     "output_type": "execute_result"
    }
   ],
   "source": [
    "#KNN 학습방법을 이용하여 test-set의 값을 예측하여 정답과 함께 표시\n",
    "comparison = pd.DataFrame({'prediction':pred, 'ground_truth':y_test.values.ravel()})\n",
    "comparison"
   ]
  },
  {
   "cell_type": "markdown",
   "metadata": {},
   "source": [
    "#서포트 벡터 머신(SVM)"
   ]
  },
  {
   "cell_type": "code",
   "execution_count": 44,
   "metadata": {},
   "outputs": [
    {
     "name": "stdout",
     "output_type": "stream",
     "text": [
      "{'C': 10, 'gamma': 0.1, 'kernel': 'rbf'}\n"
     ]
    }
   ],
   "source": [
    "def svc_param_selection(x, y, nfolds):\n",
    "    svm_parameters = [\n",
    "                        {'kernel' : ['rbf'],\n",
    "                         'gamma': [0.01, 0.1, 1],\n",
    "                         'C': [10, 100, 1000]}\n",
    "                     ]\n",
    "    # 사이킷런에서 제공하는 GridSearchCV를 사용해 최적의 파라미터를 구함\n",
    "    clf = GridSearchCV(SVC(), svm_parameters, cv=5)\n",
    "    clf.fit(x_train, y_train.values.ravel())\n",
    "    print(clf.best_params_)\n",
    "\n",
    "    return clf\n",
    "\n",
    "# x_train = train_set[['gender', 'car', 'reality', 'edu_type', 'family_type', 'child_num', 'income_total', 'DAYS_BIRTH', 'DAYS_EMPLOYED',\n",
    "#                   'FLAG_MOBIL', 'work_phone', 'phone', 'email', 'family_size', 'income_type',\n",
    "#                   'begin_month', 'house_type']]\n",
    "\n",
    "# y_train = train_set[['credit']]\n",
    "\n",
    "# 최적의 파라미터로 학습된 모델을 clf로 저장\n",
    "clf = svc_param_selection(x_train, y_train.values.ravel(), 5)"
   ]
  },
  {
   "cell_type": "code",
   "execution_count": 45,
   "metadata": {},
   "outputs": [
    {
     "name": "stdout",
     "output_type": "stream",
     "text": [
      "              precision    recall  f1-score   support\n",
      "\n",
      "         0.0       0.33      0.04      0.07       311\n",
      "         1.0       0.52      0.15      0.23       629\n",
      "         2.0       0.67      0.95      0.78      1706\n",
      "\n",
      "    accuracy                           0.65      2646\n",
      "   macro avg       0.50      0.38      0.36      2646\n",
      "weighted avg       0.59      0.65      0.57      2646\n",
      "\n",
      "\n",
      "accuracy : 0.6519274376417233\n"
     ]
    }
   ],
   "source": [
    "# x_test = test_set[['gender', 'car', 'reality', 'edu_type', 'family_type', 'child_num', 'income_total', 'DAYS_BIRTH', 'DAYS_EMPLOYED',\n",
    "#                   'FLAG_MOBIL', 'work_phone', 'phone', 'email', 'family_size', 'income_type',\n",
    "#                   'begin_month', 'house_type']]\n",
    "# y_test = test_set[['credit']]\n",
    "\n",
    "# 최적의 파라미터로 학습된 모델로 테스트를 진행\n",
    "y_true, y_pred = y_test, clf.predict(x_test)\n",
    "\n",
    "print(classification_report(y_true, y_pred))\n",
    "print()\n",
    "print(\"accuracy : \" + str(accuracy_score(y_true, y_pred)) )"
   ]
  },
  {
   "cell_type": "code",
   "execution_count": 46,
   "metadata": {},
   "outputs": [
    {
     "data": {
      "text/html": [
       "<div>\n",
       "<style scoped>\n",
       "    .dataframe tbody tr th:only-of-type {\n",
       "        vertical-align: middle;\n",
       "    }\n",
       "\n",
       "    .dataframe tbody tr th {\n",
       "        vertical-align: top;\n",
       "    }\n",
       "\n",
       "    .dataframe thead th {\n",
       "        text-align: right;\n",
       "    }\n",
       "</style>\n",
       "<table border=\"1\" class=\"dataframe\">\n",
       "  <thead>\n",
       "    <tr style=\"text-align: right;\">\n",
       "      <th></th>\n",
       "      <th>prediction</th>\n",
       "      <th>ground_truth</th>\n",
       "    </tr>\n",
       "  </thead>\n",
       "  <tbody>\n",
       "    <tr>\n",
       "      <th>0</th>\n",
       "      <td>2.0</td>\n",
       "      <td>1.0</td>\n",
       "    </tr>\n",
       "    <tr>\n",
       "      <th>1</th>\n",
       "      <td>2.0</td>\n",
       "      <td>2.0</td>\n",
       "    </tr>\n",
       "    <tr>\n",
       "      <th>2</th>\n",
       "      <td>2.0</td>\n",
       "      <td>2.0</td>\n",
       "    </tr>\n",
       "    <tr>\n",
       "      <th>3</th>\n",
       "      <td>2.0</td>\n",
       "      <td>2.0</td>\n",
       "    </tr>\n",
       "    <tr>\n",
       "      <th>4</th>\n",
       "      <td>2.0</td>\n",
       "      <td>1.0</td>\n",
       "    </tr>\n",
       "    <tr>\n",
       "      <th>...</th>\n",
       "      <td>...</td>\n",
       "      <td>...</td>\n",
       "    </tr>\n",
       "    <tr>\n",
       "      <th>2641</th>\n",
       "      <td>2.0</td>\n",
       "      <td>2.0</td>\n",
       "    </tr>\n",
       "    <tr>\n",
       "      <th>2642</th>\n",
       "      <td>2.0</td>\n",
       "      <td>2.0</td>\n",
       "    </tr>\n",
       "    <tr>\n",
       "      <th>2643</th>\n",
       "      <td>2.0</td>\n",
       "      <td>2.0</td>\n",
       "    </tr>\n",
       "    <tr>\n",
       "      <th>2644</th>\n",
       "      <td>2.0</td>\n",
       "      <td>2.0</td>\n",
       "    </tr>\n",
       "    <tr>\n",
       "      <th>2645</th>\n",
       "      <td>2.0</td>\n",
       "      <td>2.0</td>\n",
       "    </tr>\n",
       "  </tbody>\n",
       "</table>\n",
       "<p>2646 rows × 2 columns</p>\n",
       "</div>"
      ],
      "text/plain": [
       "      prediction  ground_truth\n",
       "0            2.0           1.0\n",
       "1            2.0           2.0\n",
       "2            2.0           2.0\n",
       "3            2.0           2.0\n",
       "4            2.0           1.0\n",
       "...          ...           ...\n",
       "2641         2.0           2.0\n",
       "2642         2.0           2.0\n",
       "2643         2.0           2.0\n",
       "2644         2.0           2.0\n",
       "2645         2.0           2.0\n",
       "\n",
       "[2646 rows x 2 columns]"
      ]
     },
     "execution_count": 46,
     "metadata": {},
     "output_type": "execute_result"
    }
   ],
   "source": [
    "#SVM 학습방법을 이용하여 test-set의 값을 예측하여 정답과 함께 표시\n",
    "comparison2 = pd.DataFrame({'prediction':y_pred,\n",
    "                          'ground_truth':y_true.values.ravel()})\n",
    "comparison2"
   ]
  },
  {
   "cell_type": "code",
   "execution_count": 22,
   "metadata": {},
   "outputs": [],
   "source": [
    "train_DT = pd.DataFrame(train_set)\n",
    "train_DT = train_set[['gender', 'car', 'reality', 'child_num', 'income_total', \n",
    "                      'income_type', 'edu_type', 'family_type', 'house_type',\n",
    "                      'DAYS_BIRTH', 'DAYS_EMPLOYED', 'FLAG_MOBIL', 'work_phone',\n",
    "                      'phone', 'email', 'family_size', 'begin_month', 'credit']]\n",
    "\n",
    "test_DT = pd.DataFrame(test_set)\n",
    "test_DT = test_set[['gender', 'car', 'reality', 'child_num', 'income_total', \n",
    "                      'income_type', 'edu_type', 'family_type', 'house_type',\n",
    "                      'DAYS_BIRTH', 'DAYS_EMPLOYED', 'FLAG_MOBIL', 'work_phone',\n",
    "                      'phone', 'email', 'family_size', 'begin_month', 'credit']]"
   ]
  },
  {
   "cell_type": "code",
   "execution_count": 23,
   "metadata": {},
   "outputs": [
    {
     "data": {
      "text/plain": [
       "2.0    15283\n",
       "1.0     5627\n",
       "0.0     2901\n",
       "Name: credit, dtype: int64"
      ]
     },
     "execution_count": 23,
     "metadata": {},
     "output_type": "execute_result"
    }
   ],
   "source": [
    "train_DT.credit.value_counts()"
   ]
  },
  {
   "cell_type": "code",
   "execution_count": 24,
   "metadata": {},
   "outputs": [
    {
     "data": {
      "text/plain": [
       "2.0    1685\n",
       "1.0     640\n",
       "0.0     321\n",
       "Name: credit, dtype: int64"
      ]
     },
     "execution_count": 24,
     "metadata": {},
     "output_type": "execute_result"
    }
   ],
   "source": [
    "test_DT.credit.value_counts()"
   ]
  },
  {
   "cell_type": "code",
   "execution_count": 25,
   "metadata": {},
   "outputs": [
    {
     "data": {
      "text/html": [
       "<div>\n",
       "<style scoped>\n",
       "    .dataframe tbody tr th:only-of-type {\n",
       "        vertical-align: middle;\n",
       "    }\n",
       "\n",
       "    .dataframe tbody tr th {\n",
       "        vertical-align: top;\n",
       "    }\n",
       "\n",
       "    .dataframe thead th {\n",
       "        text-align: right;\n",
       "    }\n",
       "</style>\n",
       "<table border=\"1\" class=\"dataframe\">\n",
       "  <thead>\n",
       "    <tr style=\"text-align: right;\">\n",
       "      <th></th>\n",
       "      <th>gender</th>\n",
       "      <th>car</th>\n",
       "      <th>reality</th>\n",
       "      <th>child_num</th>\n",
       "      <th>income_total</th>\n",
       "      <th>income_type</th>\n",
       "      <th>edu_type</th>\n",
       "      <th>family_type</th>\n",
       "      <th>house_type</th>\n",
       "      <th>DAYS_BIRTH</th>\n",
       "      <th>DAYS_EMPLOYED</th>\n",
       "      <th>FLAG_MOBIL</th>\n",
       "      <th>work_phone</th>\n",
       "      <th>phone</th>\n",
       "      <th>email</th>\n",
       "      <th>family_size</th>\n",
       "      <th>begin_month</th>\n",
       "      <th>credit</th>\n",
       "    </tr>\n",
       "  </thead>\n",
       "  <tbody>\n",
       "    <tr>\n",
       "      <th>13252</th>\n",
       "      <td>0</td>\n",
       "      <td>0</td>\n",
       "      <td>0</td>\n",
       "      <td>1</td>\n",
       "      <td>0</td>\n",
       "      <td>2</td>\n",
       "      <td>4</td>\n",
       "      <td>3</td>\n",
       "      <td>2</td>\n",
       "      <td>6</td>\n",
       "      <td>1</td>\n",
       "      <td>1</td>\n",
       "      <td>0</td>\n",
       "      <td>1</td>\n",
       "      <td>0</td>\n",
       "      <td>2.0</td>\n",
       "      <td>0</td>\n",
       "      <td>2.0</td>\n",
       "    </tr>\n",
       "    <tr>\n",
       "      <th>3300</th>\n",
       "      <td>0</td>\n",
       "      <td>0</td>\n",
       "      <td>0</td>\n",
       "      <td>0</td>\n",
       "      <td>0</td>\n",
       "      <td>4</td>\n",
       "      <td>4</td>\n",
       "      <td>2</td>\n",
       "      <td>1</td>\n",
       "      <td>5</td>\n",
       "      <td>1</td>\n",
       "      <td>1</td>\n",
       "      <td>0</td>\n",
       "      <td>0</td>\n",
       "      <td>0</td>\n",
       "      <td>1.0</td>\n",
       "      <td>1</td>\n",
       "      <td>2.0</td>\n",
       "    </tr>\n",
       "    <tr>\n",
       "      <th>15961</th>\n",
       "      <td>0</td>\n",
       "      <td>0</td>\n",
       "      <td>1</td>\n",
       "      <td>1</td>\n",
       "      <td>0</td>\n",
       "      <td>0</td>\n",
       "      <td>4</td>\n",
       "      <td>1</td>\n",
       "      <td>1</td>\n",
       "      <td>4</td>\n",
       "      <td>1</td>\n",
       "      <td>1</td>\n",
       "      <td>0</td>\n",
       "      <td>0</td>\n",
       "      <td>0</td>\n",
       "      <td>3.0</td>\n",
       "      <td>2</td>\n",
       "      <td>0.0</td>\n",
       "    </tr>\n",
       "    <tr>\n",
       "      <th>14251</th>\n",
       "      <td>1</td>\n",
       "      <td>1</td>\n",
       "      <td>1</td>\n",
       "      <td>0</td>\n",
       "      <td>0</td>\n",
       "      <td>1</td>\n",
       "      <td>4</td>\n",
       "      <td>1</td>\n",
       "      <td>1</td>\n",
       "      <td>8</td>\n",
       "      <td>0</td>\n",
       "      <td>1</td>\n",
       "      <td>0</td>\n",
       "      <td>1</td>\n",
       "      <td>0</td>\n",
       "      <td>2.0</td>\n",
       "      <td>1</td>\n",
       "      <td>2.0</td>\n",
       "    </tr>\n",
       "    <tr>\n",
       "      <th>21087</th>\n",
       "      <td>1</td>\n",
       "      <td>0</td>\n",
       "      <td>1</td>\n",
       "      <td>0</td>\n",
       "      <td>1</td>\n",
       "      <td>4</td>\n",
       "      <td>1</td>\n",
       "      <td>1</td>\n",
       "      <td>1</td>\n",
       "      <td>3</td>\n",
       "      <td>1</td>\n",
       "      <td>1</td>\n",
       "      <td>1</td>\n",
       "      <td>0</td>\n",
       "      <td>0</td>\n",
       "      <td>2.0</td>\n",
       "      <td>2</td>\n",
       "      <td>2.0</td>\n",
       "    </tr>\n",
       "  </tbody>\n",
       "</table>\n",
       "</div>"
      ],
      "text/plain": [
       "       gender  car  reality  child_num  income_total  income_type  edu_type  \\\n",
       "13252       0    0        0          1             0            2         4   \n",
       "3300        0    0        0          0             0            4         4   \n",
       "15961       0    0        1          1             0            0         4   \n",
       "14251       1    1        1          0             0            1         4   \n",
       "21087       1    0        1          0             1            4         1   \n",
       "\n",
       "       family_type  house_type  DAYS_BIRTH  DAYS_EMPLOYED  FLAG_MOBIL  \\\n",
       "13252            3           2           6              1           1   \n",
       "3300             2           1           5              1           1   \n",
       "15961            1           1           4              1           1   \n",
       "14251            1           1           8              0           1   \n",
       "21087            1           1           3              1           1   \n",
       "\n",
       "       work_phone  phone  email  family_size  begin_month  credit  \n",
       "13252           0      1      0          2.0            0     2.0  \n",
       "3300            0      0      0          1.0            1     2.0  \n",
       "15961           0      0      0          3.0            2     0.0  \n",
       "14251           0      1      0          2.0            1     2.0  \n",
       "21087           1      0      0          2.0            2     2.0  "
      ]
     },
     "execution_count": 25,
     "metadata": {},
     "output_type": "execute_result"
    }
   ],
   "source": [
    "train_DT.head()"
   ]
  },
  {
   "cell_type": "code",
   "execution_count": 41,
   "metadata": {},
   "outputs": [],
   "source": [
    "x_DTtrain = train_DT[['gender', 'car', 'reality', 'child_num', 'income_total', \n",
    "                      'income_type', 'edu_type', 'family_type', 'house_type',\n",
    "                      'DAYS_BIRTH', 'DAYS_EMPLOYED', 'FLAG_MOBIL', 'work_phone',\n",
    "                      'phone', 'email', 'family_size', 'begin_month']]\n",
    "y_DTtrain = train_DT[['credit']]\n",
    "\n",
    "x_DTtest = test_DT[['gender', 'car', 'reality', 'child_num', 'income_total', \n",
    "                      'income_type', 'edu_type', 'family_type', 'house_type',\n",
    "                      'DAYS_BIRTH', 'DAYS_EMPLOYED', 'FLAG_MOBIL', 'work_phone',\n",
    "                      'phone', 'email', 'family_size', 'begin_month']]\n",
    "y_DTtest = test_DT[['credit']]"
   ]
  },
  {
   "cell_type": "markdown",
   "metadata": {},
   "source": [
    "#의사결정나무"
   ]
  },
  {
   "cell_type": "code",
   "execution_count": 42,
   "metadata": {},
   "outputs": [],
   "source": [
    "#전처리 라이브러리에서 라벨값 입력해주는 함수를 불러옴.(라벨값을 부여해야 의사결정나무에서 계수 설정 가능.)\n",
    "le = preprocessing.LabelEncoder()\n",
    "y_encoded = le.fit_transform(y_DTtrain)\n",
    "\n",
    "#의사결정나무(랜덤 시드값 5) 생성\n",
    "clf = tree.DecisionTreeClassifier(random_state=5).fit(x_DTtrain, y_encoded)"
   ]
  },
  {
   "cell_type": "code",
   "execution_count": 28,
   "metadata": {},
   "outputs": [
    {
     "ename": "ModuleNotFoundError",
     "evalue": "No module named 'graphviz'",
     "output_type": "error",
     "traceback": [
      "\u001b[1;31m---------------------------------------------------------------------------\u001b[0m",
      "\u001b[1;31mModuleNotFoundError\u001b[0m                       Traceback (most recent call last)",
      "\u001b[1;32m<ipython-input-28-bae43e2ec8a9>\u001b[0m in \u001b[0;36m<module>\u001b[1;34m()\u001b[0m\n\u001b[0;32m      1\u001b[0m \u001b[1;31m#graphviz가 있으려나 모르겠네.\u001b[0m\u001b[1;33m\u001b[0m\u001b[1;33m\u001b[0m\u001b[0m\n\u001b[1;32m----> 2\u001b[1;33m \u001b[1;32mimport\u001b[0m \u001b[0mgraphviz\u001b[0m\u001b[1;33m\u001b[0m\u001b[0m\n\u001b[0m\u001b[0;32m      3\u001b[0m \u001b[0mdot_data\u001b[0m \u001b[1;33m=\u001b[0m \u001b[0mtree\u001b[0m\u001b[1;33m.\u001b[0m\u001b[0mexport_graphviz\u001b[0m\u001b[1;33m(\u001b[0m\u001b[0mclf\u001b[0m\u001b[1;33m,\u001b[0m \u001b[0mout_file\u001b[0m\u001b[1;33m=\u001b[0m\u001b[1;32mNone\u001b[0m\u001b[1;33m)\u001b[0m\u001b[1;33m\u001b[0m\u001b[0m\n\u001b[0;32m      4\u001b[0m \u001b[0mgraph\u001b[0m \u001b[1;33m=\u001b[0m \u001b[0mgraphviz\u001b[0m\u001b[1;33m.\u001b[0m\u001b[0mSource\u001b[0m\u001b[1;33m(\u001b[0m\u001b[0mdot_data\u001b[0m\u001b[1;33m)\u001b[0m\u001b[1;33m\u001b[0m\u001b[0m\n\u001b[0;32m      5\u001b[0m \u001b[0mgraph\u001b[0m\u001b[1;33m.\u001b[0m\u001b[0mrender\u001b[0m\u001b[1;33m(\u001b[0m\u001b[1;34m\"credit\"\u001b[0m\u001b[1;33m)\u001b[0m\u001b[1;33m\u001b[0m\u001b[0m\n",
      "\u001b[1;31mModuleNotFoundError\u001b[0m: No module named 'graphviz'"
     ]
    }
   ],
   "source": [
    "#graphviz가 있으려나 모르겠네.\n",
    "import graphviz\n",
    "dot_data = tree.export_graphviz(clf, out_file=None)\n",
    "graph = graphviz.Source(dot_data)\n",
    "graph.render(\"credit\")\n",
    "dot_data = tree.export_graphviz(clf, out_file=None,\n",
    "                               feature_names = ['gender', 'car', 'reality', 'child_num', 'income_total', \n",
    "                                                  'income_type', 'edu_type', 'family_type', 'house_type',\n",
    "                                                  'DAYS_BIRTH', 'DAYS_EMPLOYED', 'FLAG_MOBIL', 'work_phone',\n",
    "                                                  'phone', 'email', 'family_size', 'begin_month', 'credit'],\n",
    "                               class_names=['0', '1', '2'],\n",
    "                               filled=True, rounded=True,\n",
    "                               special_characters=True)\n",
    "\n",
    "graph = graphviz.Source(dot_data)\n",
    "graph"
   ]
  },
  {
   "cell_type": "code",
   "execution_count": 43,
   "metadata": {},
   "outputs": [],
   "source": [
    "pred = clf.predict(x_DTtest)"
   ]
  },
  {
   "cell_type": "code",
   "execution_count": 44,
   "metadata": {},
   "outputs": [
    {
     "name": "stdout",
     "output_type": "stream",
     "text": [
      "accuracy : 0.5884353741496599\n"
     ]
    }
   ],
   "source": [
    "print(\"accuracy : \" + str(accuracy_score(y_test.values.ravel(), le.classes_[pred])))"
   ]
  },
  {
   "cell_type": "code",
   "execution_count": 45,
   "metadata": {},
   "outputs": [
    {
     "data": {
      "text/html": [
       "<div>\n",
       "<style scoped>\n",
       "    .dataframe tbody tr th:only-of-type {\n",
       "        vertical-align: middle;\n",
       "    }\n",
       "\n",
       "    .dataframe tbody tr th {\n",
       "        vertical-align: top;\n",
       "    }\n",
       "\n",
       "    .dataframe thead th {\n",
       "        text-align: right;\n",
       "    }\n",
       "</style>\n",
       "<table border=\"1\" class=\"dataframe\">\n",
       "  <thead>\n",
       "    <tr style=\"text-align: right;\">\n",
       "      <th></th>\n",
       "      <th>prediction</th>\n",
       "      <th>ground_truth</th>\n",
       "    </tr>\n",
       "  </thead>\n",
       "  <tbody>\n",
       "    <tr>\n",
       "      <th>0</th>\n",
       "      <td>2.0</td>\n",
       "      <td>1.0</td>\n",
       "    </tr>\n",
       "    <tr>\n",
       "      <th>1</th>\n",
       "      <td>2.0</td>\n",
       "      <td>2.0</td>\n",
       "    </tr>\n",
       "    <tr>\n",
       "      <th>2</th>\n",
       "      <td>2.0</td>\n",
       "      <td>2.0</td>\n",
       "    </tr>\n",
       "    <tr>\n",
       "      <th>3</th>\n",
       "      <td>2.0</td>\n",
       "      <td>2.0</td>\n",
       "    </tr>\n",
       "    <tr>\n",
       "      <th>4</th>\n",
       "      <td>1.0</td>\n",
       "      <td>1.0</td>\n",
       "    </tr>\n",
       "    <tr>\n",
       "      <th>...</th>\n",
       "      <td>...</td>\n",
       "      <td>...</td>\n",
       "    </tr>\n",
       "    <tr>\n",
       "      <th>2641</th>\n",
       "      <td>2.0</td>\n",
       "      <td>1.0</td>\n",
       "    </tr>\n",
       "    <tr>\n",
       "      <th>2642</th>\n",
       "      <td>0.0</td>\n",
       "      <td>0.0</td>\n",
       "    </tr>\n",
       "    <tr>\n",
       "      <th>2643</th>\n",
       "      <td>0.0</td>\n",
       "      <td>2.0</td>\n",
       "    </tr>\n",
       "    <tr>\n",
       "      <th>2644</th>\n",
       "      <td>2.0</td>\n",
       "      <td>2.0</td>\n",
       "    </tr>\n",
       "    <tr>\n",
       "      <th>2645</th>\n",
       "      <td>2.0</td>\n",
       "      <td>2.0</td>\n",
       "    </tr>\n",
       "  </tbody>\n",
       "</table>\n",
       "<p>2646 rows × 2 columns</p>\n",
       "</div>"
      ],
      "text/plain": [
       "      prediction  ground_truth\n",
       "0            2.0           1.0\n",
       "1            2.0           2.0\n",
       "2            2.0           2.0\n",
       "3            2.0           2.0\n",
       "4            1.0           1.0\n",
       "...          ...           ...\n",
       "2641         2.0           1.0\n",
       "2642         0.0           0.0\n",
       "2643         0.0           2.0\n",
       "2644         2.0           2.0\n",
       "2645         2.0           2.0\n",
       "\n",
       "[2646 rows x 2 columns]"
      ]
     },
     "execution_count": 45,
     "metadata": {},
     "output_type": "execute_result"
    }
   ],
   "source": [
    "#의사결정나무를 학습방법을 이용하여 test-set의 값을 예측하여 정답과 함께 표시\n",
    "comparison3 = pd.DataFrame({'prediction':le.classes_[pred],\n",
    "                           'ground_truth':y_DTtest.values.ravel()})\n",
    "comparison3"
   ]
  },
  {
   "cell_type": "markdown",
   "metadata": {},
   "source": [
    "#XGBoost"
   ]
  },
  {
   "cell_type": "code",
   "execution_count": 138,
   "metadata": {},
   "outputs": [
    {
     "name": "stdout",
     "output_type": "stream",
     "text": [
      "(23811, 18) (2646, 18)\n"
     ]
    }
   ],
   "source": [
    "x = train.drop(['credit'], axis=1)\n",
    "y = train['credit']\n",
    "\n",
    "X_train, X_test, Y_train, Y_test = train_test_split(x, y, test_size=0.1, random_state = 10086)\n",
    "print(X_train.shape, X_test.shape)"
   ]
  },
  {
   "cell_type": "markdown",
   "metadata": {},
   "source": [
    "#XGBoost의 정확도 계산"
   ]
  },
  {
   "cell_type": "code",
   "execution_count": 139,
   "metadata": {},
   "outputs": [
    {
     "name": "stdout",
     "output_type": "stream",
     "text": [
      "[16:42:29] WARNING: ..\\src\\learner.cc:541: \n",
      "Parameters: { n_estimator } might not be used.\n",
      "\n",
      "  This may not be accurate due to some parameters are only used in language bindings but\n",
      "  passed down to XGBoost core.  Or some parameters are not used but slip through this\n",
      "  verification. Please open an issue if you find above cases.\n",
      "\n",
      "\n",
      "[16:42:29] WARNING: ..\\src\\learner.cc:1061: Starting in XGBoost 1.3.0, the default evaluation metric used with the objective 'multi:softprob' was changed from 'merror' to 'mlogloss'. Explicitly set eval_metric if you'd like to restore the old behavior.\n"
     ]
    }
   ],
   "source": [
    "#XGBoost의 분류기 사용, 횟수는 500회, 학습률은 0.2, 차수는 4\n",
    "xgb_classifier = XGBClassifier(n_estimator=500, learning_rate=0.2, max_depth=4)\n",
    "xgb_classifier.fit(X_train, Y_train)\n",
    "xgb_pred = xgb_classifier.predict(X_test)"
   ]
  },
  {
   "cell_type": "code",
   "execution_count": 140,
   "metadata": {},
   "outputs": [
    {
     "data": {
      "text/plain": [
       "0.6462585034013606"
      ]
     },
     "execution_count": 140,
     "metadata": {},
     "output_type": "execute_result"
    }
   ],
   "source": [
    "#예측한 값을 정답과 비교\n",
    "accuracy_score(Y_test, xgb_pred)"
   ]
  },
  {
   "cell_type": "code",
   "execution_count": 141,
   "metadata": {},
   "outputs": [
    {
     "data": {
      "text/plain": [
       "'              precision    recall  f1-score   support\\n\\n           0       1.00      0.00      0.01       306\\n           1       0.50      0.05      0.09       636\\n           2       0.65      0.99      0.78      1704\\n\\n    accuracy                           0.65      2646\\n   macro avg       0.72      0.35      0.29      2646\\nweighted avg       0.65      0.65      0.53      2646\\n'"
      ]
     },
     "execution_count": 141,
     "metadata": {},
     "output_type": "execute_result"
    }
   ],
   "source": [
    "classification_report(Y_test, xgb_pred, target_names=['0', '1', '2'])"
   ]
  },
  {
   "cell_type": "code",
   "execution_count": 161,
   "metadata": {},
   "outputs": [
    {
     "name": "stdout",
     "output_type": "stream",
     "text": [
      "[17:14:31] WARNING: ..\\src\\learner.cc:1061: Starting in XGBoost 1.3.0, the default evaluation metric used with the objective 'binary:logistic' was changed from 'error' to 'logloss'. Explicitly set eval_metric if you'd like to restore the old behavior.\n",
      "[17:14:32] WARNING: ..\\src\\learner.cc:1061: Starting in XGBoost 1.3.0, the default evaluation metric used with the objective 'binary:logistic' was changed from 'error' to 'logloss'. Explicitly set eval_metric if you'd like to restore the old behavior.\n",
      "[17:14:32] WARNING: ..\\src\\learner.cc:1061: Starting in XGBoost 1.3.0, the default evaluation metric used with the objective 'binary:logistic' was changed from 'error' to 'logloss'. Explicitly set eval_metric if you'd like to restore the old behavior.\n"
     ]
    },
    {
     "data": {
      "image/png": "[encoded data removed]",
      "text/plain": [
       "<Figure size 1080x360 with 3 Axes>"
      ]
     },
     "metadata": {
      "needs_background": "light"
     },
     "output_type": "display_data"
    },
    {
     "name": "stdout",
     "output_type": "stream",
     "text": [
      "roc_auc_score:  0.6031106478810117\n"
     ]
    }
   ],
   "source": [
    "from sklearn.datasets import make_classification\n",
    "from sklearn.preprocessing import label_binarize\n",
    "from sklearn.multiclass import OneVsRestClassifier\n",
    "from sklearn.metrics import roc_curve, auc\n",
    "\n",
    "n_classes = 3\n",
    "#샘플 데이터 만들기\n",
    "a = train.drop(['credit'], axis=1)\n",
    "b = train['credit']\n",
    "# a, b = make_classification(n_samples=50, n_features=17,\n",
    "#                           n_informative=3, n_redundant=2,\n",
    "#                           n_clusters_per_class=2,\n",
    "#                           n_classes=n_classes,\n",
    "#                           weights=[0.3, 0.2, 0.5],\n",
    "#                           random_state=99)\n",
    "\n",
    "b = label_binarize(b, classes=[0, 1, 2])\n",
    "\n",
    "a_train, a_test, b_train, b_test = train_test_split(a, b, test_size=0.1)\n",
    "\n",
    "ovrclf = OneVsRestClassifier(XGBClassifier())\n",
    "ovrclf.fit(a_train, b_train)\n",
    "b_score = ovrclf.predict_proba(a_test)\n",
    "\n",
    "fpr = dict()\n",
    "tpr = dict()\n",
    "roc_auc = dict()\n",
    "\n",
    "for i in range(n_classes):\n",
    "    fpr[i], tpr[i], _ = roc_curve(b_test[:, i], b_score[:, i])\n",
    "    roc_auc[i] = auc(fpr[i], tpr[i])\n",
    "    \n",
    "plt.figure(figsize=(15, 5))\n",
    "\n",
    "for idx, i in enumerate(range(n_classes)):\n",
    "    plt.subplot(131 + idx)\n",
    "    plt.plot(fpr[i], tpr[i], label = 'ROC curve (area = %0.2f)' % roc_auc[i])\n",
    "    plt.plot([0, 1], [0, 1], 'k--')\n",
    "    plt.xlim([0.0, 1.0])\n",
    "    plt.ylim([0.0, 1.05])\n",
    "    plt.xlabel('False Positive Rate')\n",
    "    plt.ylabel('True Positive Rate')\n",
    "    plt.title('Class %0.0f' % idx)\n",
    "    plt.legend(loc = \"lower right\")\n",
    "\n",
    "plt.show()\n",
    "\n",
    "print(\"roc_auc_score: \", roc_auc_score(b_test, b_score, multi_class='raise'))\n"
   ]
  },
  {
   "cell_type": "code",
   "execution_count": null,
   "metadata": {},
   "outputs": [],
   "source": [
    "xgb_Classifier = XGBClassifier()\n",
    "\n",
    "xgb_param_grid = {\n",
    "    'n_estimators' : [20, 40, 60, 80, 100],\n",
    "    'learning_rate' : [0.01, 0.05, 0.1, 0.15, 0.2],\n",
    "    'max_depth' : [4, 6, 8, 10, 12],\n",
    "}\n",
    "\n",
    "xgb_grid = GridSearchCV(xgb_Classifier, param_grid = xgb_param_grid, scoring=\"accuracy\", n_jobs=-1, verbose=1)\n",
    "xgb_grid.fit(X_train, Y_train)"
   ]
  },
  {
   "cell_type": "code",
   "execution_count": null,
   "metadata": {},
   "outputs": [],
   "source": [
    "print(\"최고 평균 정확도 : {0:.4f}\".format(xgb_grid.best_score_))\n",
    "print(\"최고의 파라미터 : \", xgb_grid.best_params_)"
   ]
  },
  {
   "cell_type": "code",
   "execution_count": null,
   "metadata": {},
   "outputs": [],
   "source": [
    "cv_result_df = pd.DataFrame(xgb_grid.cv_results_)\n",
    "cv_result_df.sort_values(by=['rank_test_score'], inplace=True)"
   ]
  },
  {
   "cell_type": "code",
   "execution_count": null,
   "metadata": {},
   "outputs": [],
   "source": [
    "cv_result_df[['params', 'mean_test_score', 'rank_test_score']].head(10)"
   ]
  },
  {
   "cell_type": "markdown",
   "metadata": {},
   "source": [
    "##sklearn이 아닌 파이썬 라이브러리를 활용한 XGBoost를 이용한 값 예측"
   ]
  },
  {
   "cell_type": "code",
   "execution_count": 146,
   "metadata": {},
   "outputs": [],
   "source": [
    "dtrain = xgb.DMatrix(data=X_train, label = Y_train)\n",
    "dtest = xgb.DMatrix(data=X_test, label=Y_test)"
   ]
  },
  {
   "cell_type": "code",
   "execution_count": 82,
   "metadata": {},
   "outputs": [],
   "source": [
    "# max_depth = 4, 학습률은 0.2, 예제가 이진분류이므로 목적함수(objective)는 \n",
    "# multi:softmax로 가장 확률이 높은 값 출력\n",
    "# 오류함수의 변수가 2 이상이므로 평가성능지표는 mlogloss\n",
    "# 부스팅 반복횟수는 400\n",
    "# 조기중단을 위한 최소 반복횟수는 100\n",
    "\n",
    "params = {'max_depth' : 4,\n",
    "         'eta' : 0.2,\n",
    "         'eval_metric' : 'mlogloss',\n",
    "         'objective' : 'multi:softmax',\n",
    "         'num_class' : 3,\n",
    "         'early_stoppings' : 100 }\n",
    "\n",
    "num_rounds = 400"
   ]
  },
  {
   "cell_type": "code",
   "execution_count": 147,
   "metadata": {},
   "outputs": [
    {
     "name": "stdout",
     "output_type": "stream",
     "text": [
      "[16:44:18] WARNING: ..\\src\\learner.cc:541: \n",
      "Parameters: { early_stoppings } might not be used.\n",
      "\n",
      "  This may not be accurate due to some parameters are only used in language bindings but\n",
      "  passed down to XGBoost core.  Or some parameters are not used but slip through this\n",
      "  verification. Please open an issue if you find above cases.\n",
      "\n",
      "\n",
      "[0]\ttrain-mlogloss:1.03050\teval-mlogloss:1.03166\n",
      "[1]\ttrain-mlogloss:0.98264\teval-mlogloss:0.98460\n",
      "[2]\ttrain-mlogloss:0.94844\teval-mlogloss:0.95134\n",
      "[3]\ttrain-mlogloss:0.92364\teval-mlogloss:0.92728\n",
      "[4]\ttrain-mlogloss:0.90558\teval-mlogloss:0.90987\n",
      "[5]\ttrain-mlogloss:0.89228\teval-mlogloss:0.89675\n",
      "[6]\ttrain-mlogloss:0.88256\teval-mlogloss:0.88753\n",
      "[7]\ttrain-mlogloss:0.87519\teval-mlogloss:0.88089\n",
      "[8]\ttrain-mlogloss:0.86965\teval-mlogloss:0.87583\n",
      "[9]\ttrain-mlogloss:0.86556\teval-mlogloss:0.87231\n",
      "[10]\ttrain-mlogloss:0.86239\teval-mlogloss:0.86995\n",
      "[11]\ttrain-mlogloss:0.85987\teval-mlogloss:0.86822\n",
      "[12]\ttrain-mlogloss:0.85793\teval-mlogloss:0.86694\n",
      "[13]\ttrain-mlogloss:0.85613\teval-mlogloss:0.86562\n",
      "[14]\ttrain-mlogloss:0.85465\teval-mlogloss:0.86439\n",
      "[15]\ttrain-mlogloss:0.85337\teval-mlogloss:0.86329\n",
      "[16]\ttrain-mlogloss:0.85239\teval-mlogloss:0.86263\n",
      "[17]\ttrain-mlogloss:0.85137\teval-mlogloss:0.86191\n",
      "[18]\ttrain-mlogloss:0.85059\teval-mlogloss:0.86134\n",
      "[19]\ttrain-mlogloss:0.84981\teval-mlogloss:0.86073\n",
      "[20]\ttrain-mlogloss:0.84936\teval-mlogloss:0.86064\n",
      "[21]\ttrain-mlogloss:0.84847\teval-mlogloss:0.86010\n",
      "[22]\ttrain-mlogloss:0.84788\teval-mlogloss:0.85964\n",
      "[23]\ttrain-mlogloss:0.84726\teval-mlogloss:0.85942\n",
      "[24]\ttrain-mlogloss:0.84664\teval-mlogloss:0.85937\n",
      "[25]\ttrain-mlogloss:0.84624\teval-mlogloss:0.85940\n",
      "[26]\ttrain-mlogloss:0.84590\teval-mlogloss:0.85931\n",
      "[27]\ttrain-mlogloss:0.84523\teval-mlogloss:0.85949\n",
      "[28]\ttrain-mlogloss:0.84484\teval-mlogloss:0.85936\n",
      "[29]\ttrain-mlogloss:0.84405\teval-mlogloss:0.85898\n",
      "[30]\ttrain-mlogloss:0.84358\teval-mlogloss:0.85879\n",
      "[31]\ttrain-mlogloss:0.84311\teval-mlogloss:0.85880\n",
      "[32]\ttrain-mlogloss:0.84267\teval-mlogloss:0.85838\n",
      "[33]\ttrain-mlogloss:0.84199\teval-mlogloss:0.85815\n",
      "[34]\ttrain-mlogloss:0.84159\teval-mlogloss:0.85807\n",
      "[35]\ttrain-mlogloss:0.84121\teval-mlogloss:0.85807\n",
      "[36]\ttrain-mlogloss:0.84091\teval-mlogloss:0.85817\n",
      "[37]\ttrain-mlogloss:0.84007\teval-mlogloss:0.85797\n",
      "[38]\ttrain-mlogloss:0.83960\teval-mlogloss:0.85816\n",
      "[39]\ttrain-mlogloss:0.83898\teval-mlogloss:0.85836\n",
      "[40]\ttrain-mlogloss:0.83882\teval-mlogloss:0.85841\n",
      "[41]\ttrain-mlogloss:0.83814\teval-mlogloss:0.85812\n",
      "[42]\ttrain-mlogloss:0.83737\teval-mlogloss:0.85786\n",
      "[43]\ttrain-mlogloss:0.83667\teval-mlogloss:0.85738\n",
      "[44]\ttrain-mlogloss:0.83602\teval-mlogloss:0.85738\n",
      "[45]\ttrain-mlogloss:0.83557\teval-mlogloss:0.85749\n",
      "[46]\ttrain-mlogloss:0.83524\teval-mlogloss:0.85746\n",
      "[47]\ttrain-mlogloss:0.83467\teval-mlogloss:0.85729\n",
      "[48]\ttrain-mlogloss:0.83431\teval-mlogloss:0.85723\n",
      "[49]\ttrain-mlogloss:0.83381\teval-mlogloss:0.85721\n",
      "[50]\ttrain-mlogloss:0.83348\teval-mlogloss:0.85705\n",
      "[51]\ttrain-mlogloss:0.83291\teval-mlogloss:0.85720\n",
      "[52]\ttrain-mlogloss:0.83245\teval-mlogloss:0.85695\n",
      "[53]\ttrain-mlogloss:0.83204\teval-mlogloss:0.85672\n",
      "[54]\ttrain-mlogloss:0.83159\teval-mlogloss:0.85660\n",
      "[55]\ttrain-mlogloss:0.83082\teval-mlogloss:0.85651\n",
      "[56]\ttrain-mlogloss:0.83038\teval-mlogloss:0.85646\n",
      "[57]\ttrain-mlogloss:0.83022\teval-mlogloss:0.85641\n",
      "[58]\ttrain-mlogloss:0.82981\teval-mlogloss:0.85633\n",
      "[59]\ttrain-mlogloss:0.82944\teval-mlogloss:0.85617\n",
      "[60]\ttrain-mlogloss:0.82882\teval-mlogloss:0.85602\n",
      "[61]\ttrain-mlogloss:0.82857\teval-mlogloss:0.85600\n",
      "[62]\ttrain-mlogloss:0.82814\teval-mlogloss:0.85620\n",
      "[63]\ttrain-mlogloss:0.82773\teval-mlogloss:0.85609\n",
      "[64]\ttrain-mlogloss:0.82740\teval-mlogloss:0.85611\n",
      "[65]\ttrain-mlogloss:0.82694\teval-mlogloss:0.85583\n",
      "[66]\ttrain-mlogloss:0.82647\teval-mlogloss:0.85580\n",
      "[67]\ttrain-mlogloss:0.82591\teval-mlogloss:0.85563\n",
      "[68]\ttrain-mlogloss:0.82536\teval-mlogloss:0.85554\n",
      "[69]\ttrain-mlogloss:0.82504\teval-mlogloss:0.85546\n",
      "[70]\ttrain-mlogloss:0.82470\teval-mlogloss:0.85542\n",
      "[71]\ttrain-mlogloss:0.82436\teval-mlogloss:0.85529\n",
      "[72]\ttrain-mlogloss:0.82392\teval-mlogloss:0.85526\n",
      "[73]\ttrain-mlogloss:0.82362\teval-mlogloss:0.85531\n",
      "[74]\ttrain-mlogloss:0.82311\teval-mlogloss:0.85540\n",
      "[75]\ttrain-mlogloss:0.82268\teval-mlogloss:0.85530\n",
      "[76]\ttrain-mlogloss:0.82234\teval-mlogloss:0.85535\n",
      "[77]\ttrain-mlogloss:0.82205\teval-mlogloss:0.85542\n",
      "[78]\ttrain-mlogloss:0.82166\teval-mlogloss:0.85538\n",
      "[79]\ttrain-mlogloss:0.82133\teval-mlogloss:0.85543\n",
      "[80]\ttrain-mlogloss:0.82085\teval-mlogloss:0.85570\n",
      "[81]\ttrain-mlogloss:0.82058\teval-mlogloss:0.85569\n",
      "[82]\ttrain-mlogloss:0.82033\teval-mlogloss:0.85593\n",
      "[83]\ttrain-mlogloss:0.81989\teval-mlogloss:0.85597\n",
      "[84]\ttrain-mlogloss:0.81941\teval-mlogloss:0.85607\n",
      "[85]\ttrain-mlogloss:0.81881\teval-mlogloss:0.85597\n",
      "[86]\ttrain-mlogloss:0.81844\teval-mlogloss:0.85620\n",
      "[87]\ttrain-mlogloss:0.81813\teval-mlogloss:0.85622\n",
      "[88]\ttrain-mlogloss:0.81752\teval-mlogloss:0.85608\n",
      "[89]\ttrain-mlogloss:0.81718\teval-mlogloss:0.85602\n",
      "[90]\ttrain-mlogloss:0.81678\teval-mlogloss:0.85614\n",
      "[91]\ttrain-mlogloss:0.81653\teval-mlogloss:0.85632\n",
      "[92]\ttrain-mlogloss:0.81602\teval-mlogloss:0.85610\n",
      "[93]\ttrain-mlogloss:0.81580\teval-mlogloss:0.85612\n",
      "[94]\ttrain-mlogloss:0.81537\teval-mlogloss:0.85609\n",
      "[95]\ttrain-mlogloss:0.81481\teval-mlogloss:0.85594\n",
      "[96]\ttrain-mlogloss:0.81433\teval-mlogloss:0.85596\n",
      "[97]\ttrain-mlogloss:0.81406\teval-mlogloss:0.85594\n",
      "[98]\ttrain-mlogloss:0.81387\teval-mlogloss:0.85585\n",
      "[99]\ttrain-mlogloss:0.81332\teval-mlogloss:0.85574\n",
      "[100]\ttrain-mlogloss:0.81291\teval-mlogloss:0.85601\n",
      "[101]\ttrain-mlogloss:0.81261\teval-mlogloss:0.85600\n",
      "[102]\ttrain-mlogloss:0.81211\teval-mlogloss:0.85605\n",
      "[103]\ttrain-mlogloss:0.81171\teval-mlogloss:0.85608\n",
      "[104]\ttrain-mlogloss:0.81127\teval-mlogloss:0.85593\n",
      "[105]\ttrain-mlogloss:0.81088\teval-mlogloss:0.85600\n",
      "[106]\ttrain-mlogloss:0.81044\teval-mlogloss:0.85579\n",
      "[107]\ttrain-mlogloss:0.80999\teval-mlogloss:0.85566\n",
      "[108]\ttrain-mlogloss:0.80951\teval-mlogloss:0.85584\n",
      "[109]\ttrain-mlogloss:0.80921\teval-mlogloss:0.85588\n",
      "[110]\ttrain-mlogloss:0.80915\teval-mlogloss:0.85596\n",
      "[111]\ttrain-mlogloss:0.80885\teval-mlogloss:0.85609\n",
      "[112]\ttrain-mlogloss:0.80839\teval-mlogloss:0.85626\n",
      "[113]\ttrain-mlogloss:0.80824\teval-mlogloss:0.85619\n",
      "[114]\ttrain-mlogloss:0.80787\teval-mlogloss:0.85633\n",
      "[115]\ttrain-mlogloss:0.80752\teval-mlogloss:0.85627\n",
      "[116]\ttrain-mlogloss:0.80727\teval-mlogloss:0.85636\n",
      "[117]\ttrain-mlogloss:0.80705\teval-mlogloss:0.85646\n",
      "[118]\ttrain-mlogloss:0.80666\teval-mlogloss:0.85650\n",
      "[119]\ttrain-mlogloss:0.80632\teval-mlogloss:0.85660\n",
      "[120]\ttrain-mlogloss:0.80585\teval-mlogloss:0.85686\n",
      "[121]\ttrain-mlogloss:0.80554\teval-mlogloss:0.85686\n",
      "[122]\ttrain-mlogloss:0.80525\teval-mlogloss:0.85710\n",
      "[123]\ttrain-mlogloss:0.80502\teval-mlogloss:0.85704\n",
      "[124]\ttrain-mlogloss:0.80461\teval-mlogloss:0.85708\n",
      "[125]\ttrain-mlogloss:0.80418\teval-mlogloss:0.85725\n",
      "[126]\ttrain-mlogloss:0.80382\teval-mlogloss:0.85719\n",
      "[127]\ttrain-mlogloss:0.80348\teval-mlogloss:0.85718\n",
      "[128]\ttrain-mlogloss:0.80298\teval-mlogloss:0.85726\n",
      "[129]\ttrain-mlogloss:0.80247\teval-mlogloss:0.85724\n",
      "[130]\ttrain-mlogloss:0.80216\teval-mlogloss:0.85727\n",
      "[131]\ttrain-mlogloss:0.80161\teval-mlogloss:0.85692\n",
      "[132]\ttrain-mlogloss:0.80145\teval-mlogloss:0.85707\n",
      "[133]\ttrain-mlogloss:0.80110\teval-mlogloss:0.85719\n",
      "[134]\ttrain-mlogloss:0.80068\teval-mlogloss:0.85710\n",
      "[135]\ttrain-mlogloss:0.80017\teval-mlogloss:0.85704\n",
      "[136]\ttrain-mlogloss:0.79988\teval-mlogloss:0.85704\n",
      "[137]\ttrain-mlogloss:0.79941\teval-mlogloss:0.85689\n",
      "[138]\ttrain-mlogloss:0.79909\teval-mlogloss:0.85682\n",
      "[139]\ttrain-mlogloss:0.79861\teval-mlogloss:0.85642\n",
      "[140]\ttrain-mlogloss:0.79826\teval-mlogloss:0.85648\n",
      "[141]\ttrain-mlogloss:0.79783\teval-mlogloss:0.85688\n",
      "[142]\ttrain-mlogloss:0.79766\teval-mlogloss:0.85698\n",
      "[143]\ttrain-mlogloss:0.79722\teval-mlogloss:0.85707\n",
      "[144]\ttrain-mlogloss:0.79670\teval-mlogloss:0.85724\n",
      "[145]\ttrain-mlogloss:0.79650\teval-mlogloss:0.85725\n",
      "[146]\ttrain-mlogloss:0.79644\teval-mlogloss:0.85721\n",
      "[147]\ttrain-mlogloss:0.79627\teval-mlogloss:0.85724\n",
      "[148]\ttrain-mlogloss:0.79605\teval-mlogloss:0.85738\n",
      "[149]\ttrain-mlogloss:0.79563\teval-mlogloss:0.85741\n",
      "[150]\ttrain-mlogloss:0.79531\teval-mlogloss:0.85740\n",
      "[151]\ttrain-mlogloss:0.79513\teval-mlogloss:0.85754\n",
      "[152]\ttrain-mlogloss:0.79507\teval-mlogloss:0.85754\n",
      "[153]\ttrain-mlogloss:0.79480\teval-mlogloss:0.85751\n",
      "[154]\ttrain-mlogloss:0.79461\teval-mlogloss:0.85753\n",
      "[155]\ttrain-mlogloss:0.79436\teval-mlogloss:0.85756\n",
      "[156]\ttrain-mlogloss:0.79416\teval-mlogloss:0.85754\n"
     ]
    },
    {
     "name": "stdout",
     "output_type": "stream",
     "text": [
      "[157]\ttrain-mlogloss:0.79363\teval-mlogloss:0.85732\n",
      "[158]\ttrain-mlogloss:0.79322\teval-mlogloss:0.85725\n",
      "[159]\ttrain-mlogloss:0.79288\teval-mlogloss:0.85720\n",
      "[160]\ttrain-mlogloss:0.79254\teval-mlogloss:0.85719\n",
      "[161]\ttrain-mlogloss:0.79242\teval-mlogloss:0.85719\n",
      "[162]\ttrain-mlogloss:0.79220\teval-mlogloss:0.85736\n",
      "[163]\ttrain-mlogloss:0.79200\teval-mlogloss:0.85749\n",
      "[164]\ttrain-mlogloss:0.79178\teval-mlogloss:0.85747\n",
      "[165]\ttrain-mlogloss:0.79146\teval-mlogloss:0.85761\n",
      "[166]\ttrain-mlogloss:0.79123\teval-mlogloss:0.85756\n",
      "[167]\ttrain-mlogloss:0.79095\teval-mlogloss:0.85746\n",
      "[168]\ttrain-mlogloss:0.79071\teval-mlogloss:0.85754\n",
      "[169]\ttrain-mlogloss:0.79037\teval-mlogloss:0.85747\n",
      "[170]\ttrain-mlogloss:0.79010\teval-mlogloss:0.85738\n",
      "[171]\ttrain-mlogloss:0.78986\teval-mlogloss:0.85758\n",
      "[172]\ttrain-mlogloss:0.78957\teval-mlogloss:0.85773\n",
      "[173]\ttrain-mlogloss:0.78909\teval-mlogloss:0.85768\n",
      "[174]\ttrain-mlogloss:0.78871\teval-mlogloss:0.85756\n",
      "[175]\ttrain-mlogloss:0.78820\teval-mlogloss:0.85747\n",
      "[176]\ttrain-mlogloss:0.78782\teval-mlogloss:0.85747\n",
      "[177]\ttrain-mlogloss:0.78744\teval-mlogloss:0.85762\n",
      "[178]\ttrain-mlogloss:0.78719\teval-mlogloss:0.85765\n",
      "[179]\ttrain-mlogloss:0.78695\teval-mlogloss:0.85765\n",
      "[180]\ttrain-mlogloss:0.78657\teval-mlogloss:0.85753\n",
      "[181]\ttrain-mlogloss:0.78628\teval-mlogloss:0.85740\n",
      "[182]\ttrain-mlogloss:0.78587\teval-mlogloss:0.85731\n",
      "[183]\ttrain-mlogloss:0.78559\teval-mlogloss:0.85738\n",
      "[184]\ttrain-mlogloss:0.78538\teval-mlogloss:0.85747\n",
      "[185]\ttrain-mlogloss:0.78524\teval-mlogloss:0.85763\n",
      "[186]\ttrain-mlogloss:0.78496\teval-mlogloss:0.85774\n",
      "[187]\ttrain-mlogloss:0.78467\teval-mlogloss:0.85776\n",
      "[188]\ttrain-mlogloss:0.78444\teval-mlogloss:0.85767\n",
      "[189]\ttrain-mlogloss:0.78421\teval-mlogloss:0.85788\n",
      "[190]\ttrain-mlogloss:0.78396\teval-mlogloss:0.85784\n",
      "[191]\ttrain-mlogloss:0.78379\teval-mlogloss:0.85800\n",
      "[192]\ttrain-mlogloss:0.78354\teval-mlogloss:0.85799\n",
      "[193]\ttrain-mlogloss:0.78340\teval-mlogloss:0.85812\n",
      "[194]\ttrain-mlogloss:0.78309\teval-mlogloss:0.85818\n",
      "[195]\ttrain-mlogloss:0.78284\teval-mlogloss:0.85834\n",
      "[196]\ttrain-mlogloss:0.78260\teval-mlogloss:0.85841\n",
      "[197]\ttrain-mlogloss:0.78209\teval-mlogloss:0.85867\n",
      "[198]\ttrain-mlogloss:0.78170\teval-mlogloss:0.85869\n",
      "[199]\ttrain-mlogloss:0.78130\teval-mlogloss:0.85866\n",
      "[200]\ttrain-mlogloss:0.78099\teval-mlogloss:0.85876\n",
      "[201]\ttrain-mlogloss:0.78050\teval-mlogloss:0.85869\n",
      "[202]\ttrain-mlogloss:0.78021\teval-mlogloss:0.85820\n",
      "[203]\ttrain-mlogloss:0.77982\teval-mlogloss:0.85837\n",
      "[204]\ttrain-mlogloss:0.77938\teval-mlogloss:0.85845\n",
      "[205]\ttrain-mlogloss:0.77887\teval-mlogloss:0.85879\n",
      "[206]\ttrain-mlogloss:0.77858\teval-mlogloss:0.85872\n",
      "[207]\ttrain-mlogloss:0.77838\teval-mlogloss:0.85874\n",
      "[208]\ttrain-mlogloss:0.77799\teval-mlogloss:0.85859\n",
      "[209]\ttrain-mlogloss:0.77774\teval-mlogloss:0.85854\n",
      "[210]\ttrain-mlogloss:0.77748\teval-mlogloss:0.85842\n",
      "[211]\ttrain-mlogloss:0.77712\teval-mlogloss:0.85830\n",
      "[212]\ttrain-mlogloss:0.77682\teval-mlogloss:0.85841\n",
      "[213]\ttrain-mlogloss:0.77653\teval-mlogloss:0.85844\n",
      "[214]\ttrain-mlogloss:0.77606\teval-mlogloss:0.85859\n",
      "[215]\ttrain-mlogloss:0.77563\teval-mlogloss:0.85860\n",
      "[216]\ttrain-mlogloss:0.77539\teval-mlogloss:0.85865\n",
      "[217]\ttrain-mlogloss:0.77516\teval-mlogloss:0.85879\n",
      "[218]\ttrain-mlogloss:0.77482\teval-mlogloss:0.85876\n",
      "[219]\ttrain-mlogloss:0.77443\teval-mlogloss:0.85880\n",
      "[220]\ttrain-mlogloss:0.77416\teval-mlogloss:0.85885\n",
      "[221]\ttrain-mlogloss:0.77393\teval-mlogloss:0.85884\n",
      "[222]\ttrain-mlogloss:0.77356\teval-mlogloss:0.85887\n",
      "[223]\ttrain-mlogloss:0.77330\teval-mlogloss:0.85888\n",
      "[224]\ttrain-mlogloss:0.77292\teval-mlogloss:0.85878\n",
      "[225]\ttrain-mlogloss:0.77274\teval-mlogloss:0.85873\n",
      "[226]\ttrain-mlogloss:0.77247\teval-mlogloss:0.85860\n",
      "[227]\ttrain-mlogloss:0.77205\teval-mlogloss:0.85850\n",
      "[228]\ttrain-mlogloss:0.77187\teval-mlogloss:0.85847\n",
      "[229]\ttrain-mlogloss:0.77160\teval-mlogloss:0.85851\n",
      "[230]\ttrain-mlogloss:0.77118\teval-mlogloss:0.85832\n",
      "[231]\ttrain-mlogloss:0.77093\teval-mlogloss:0.85826\n",
      "[232]\ttrain-mlogloss:0.77076\teval-mlogloss:0.85846\n",
      "[233]\ttrain-mlogloss:0.77058\teval-mlogloss:0.85856\n",
      "[234]\ttrain-mlogloss:0.77034\teval-mlogloss:0.85854\n",
      "[235]\ttrain-mlogloss:0.77004\teval-mlogloss:0.85848\n",
      "[236]\ttrain-mlogloss:0.76966\teval-mlogloss:0.85844\n",
      "[237]\ttrain-mlogloss:0.76928\teval-mlogloss:0.85843\n",
      "[238]\ttrain-mlogloss:0.76898\teval-mlogloss:0.85843\n",
      "[239]\ttrain-mlogloss:0.76877\teval-mlogloss:0.85855\n",
      "[240]\ttrain-mlogloss:0.76862\teval-mlogloss:0.85871\n",
      "[241]\ttrain-mlogloss:0.76839\teval-mlogloss:0.85892\n",
      "[242]\ttrain-mlogloss:0.76813\teval-mlogloss:0.85890\n",
      "[243]\ttrain-mlogloss:0.76790\teval-mlogloss:0.85894\n",
      "[244]\ttrain-mlogloss:0.76759\teval-mlogloss:0.85894\n",
      "[245]\ttrain-mlogloss:0.76734\teval-mlogloss:0.85911\n",
      "[246]\ttrain-mlogloss:0.76703\teval-mlogloss:0.85911\n",
      "[247]\ttrain-mlogloss:0.76672\teval-mlogloss:0.85897\n",
      "[248]\ttrain-mlogloss:0.76642\teval-mlogloss:0.85912\n",
      "[249]\ttrain-mlogloss:0.76606\teval-mlogloss:0.85912\n",
      "[250]\ttrain-mlogloss:0.76581\teval-mlogloss:0.85924\n",
      "[251]\ttrain-mlogloss:0.76555\teval-mlogloss:0.85924\n",
      "[252]\ttrain-mlogloss:0.76531\teval-mlogloss:0.85913\n",
      "[253]\ttrain-mlogloss:0.76505\teval-mlogloss:0.85910\n",
      "[254]\ttrain-mlogloss:0.76488\teval-mlogloss:0.85910\n",
      "[255]\ttrain-mlogloss:0.76475\teval-mlogloss:0.85927\n",
      "[256]\ttrain-mlogloss:0.76455\teval-mlogloss:0.85929\n",
      "[257]\ttrain-mlogloss:0.76439\teval-mlogloss:0.85924\n",
      "[258]\ttrain-mlogloss:0.76419\teval-mlogloss:0.85918\n",
      "[259]\ttrain-mlogloss:0.76393\teval-mlogloss:0.85925\n",
      "[260]\ttrain-mlogloss:0.76372\teval-mlogloss:0.85918\n",
      "[261]\ttrain-mlogloss:0.76344\teval-mlogloss:0.85918\n",
      "[262]\ttrain-mlogloss:0.76300\teval-mlogloss:0.85909\n",
      "[263]\ttrain-mlogloss:0.76250\teval-mlogloss:0.85909\n",
      "[264]\ttrain-mlogloss:0.76212\teval-mlogloss:0.85914\n",
      "[265]\ttrain-mlogloss:0.76165\teval-mlogloss:0.85912\n",
      "[266]\ttrain-mlogloss:0.76134\teval-mlogloss:0.85919\n",
      "[267]\ttrain-mlogloss:0.76125\teval-mlogloss:0.85916\n",
      "[268]\ttrain-mlogloss:0.76098\teval-mlogloss:0.85921\n",
      "[269]\ttrain-mlogloss:0.76065\teval-mlogloss:0.85931\n",
      "[270]\ttrain-mlogloss:0.76024\teval-mlogloss:0.85938\n",
      "[271]\ttrain-mlogloss:0.76000\teval-mlogloss:0.85947\n",
      "[272]\ttrain-mlogloss:0.75954\teval-mlogloss:0.85944\n",
      "[273]\ttrain-mlogloss:0.75921\teval-mlogloss:0.85934\n",
      "[274]\ttrain-mlogloss:0.75894\teval-mlogloss:0.85925\n",
      "[275]\ttrain-mlogloss:0.75867\teval-mlogloss:0.85923\n",
      "[276]\ttrain-mlogloss:0.75828\teval-mlogloss:0.85918\n",
      "[277]\ttrain-mlogloss:0.75795\teval-mlogloss:0.85927\n",
      "[278]\ttrain-mlogloss:0.75776\teval-mlogloss:0.85916\n",
      "[279]\ttrain-mlogloss:0.75741\teval-mlogloss:0.85928\n",
      "[280]\ttrain-mlogloss:0.75717\teval-mlogloss:0.85932\n",
      "[281]\ttrain-mlogloss:0.75699\teval-mlogloss:0.85951\n",
      "[282]\ttrain-mlogloss:0.75677\teval-mlogloss:0.85955\n",
      "[283]\ttrain-mlogloss:0.75654\teval-mlogloss:0.85958\n",
      "[284]\ttrain-mlogloss:0.75623\teval-mlogloss:0.85944\n",
      "[285]\ttrain-mlogloss:0.75600\teval-mlogloss:0.85953\n",
      "[286]\ttrain-mlogloss:0.75570\teval-mlogloss:0.85953\n",
      "[287]\ttrain-mlogloss:0.75530\teval-mlogloss:0.85948\n",
      "[288]\ttrain-mlogloss:0.75501\teval-mlogloss:0.85966\n",
      "[289]\ttrain-mlogloss:0.75462\teval-mlogloss:0.85963\n",
      "[290]\ttrain-mlogloss:0.75434\teval-mlogloss:0.85983\n",
      "[291]\ttrain-mlogloss:0.75416\teval-mlogloss:0.85986\n",
      "[292]\ttrain-mlogloss:0.75380\teval-mlogloss:0.85993\n",
      "[293]\ttrain-mlogloss:0.75342\teval-mlogloss:0.86013\n",
      "[294]\ttrain-mlogloss:0.75316\teval-mlogloss:0.86016\n",
      "[295]\ttrain-mlogloss:0.75302\teval-mlogloss:0.86029\n",
      "[296]\ttrain-mlogloss:0.75274\teval-mlogloss:0.86045\n",
      "[297]\ttrain-mlogloss:0.75237\teval-mlogloss:0.86041\n",
      "[298]\ttrain-mlogloss:0.75204\teval-mlogloss:0.86039\n",
      "[299]\ttrain-mlogloss:0.75166\teval-mlogloss:0.86045\n",
      "[300]\ttrain-mlogloss:0.75143\teval-mlogloss:0.86052\n",
      "[301]\ttrain-mlogloss:0.75106\teval-mlogloss:0.86038\n",
      "[302]\ttrain-mlogloss:0.75084\teval-mlogloss:0.86041\n",
      "[303]\ttrain-mlogloss:0.75064\teval-mlogloss:0.86052\n",
      "[304]\ttrain-mlogloss:0.75040\teval-mlogloss:0.86050\n",
      "[305]\ttrain-mlogloss:0.75005\teval-mlogloss:0.86056\n",
      "[306]\ttrain-mlogloss:0.74985\teval-mlogloss:0.86063\n",
      "[307]\ttrain-mlogloss:0.74957\teval-mlogloss:0.86035\n",
      "[308]\ttrain-mlogloss:0.74940\teval-mlogloss:0.86045\n",
      "[309]\ttrain-mlogloss:0.74914\teval-mlogloss:0.86045\n",
      "[310]\ttrain-mlogloss:0.74892\teval-mlogloss:0.86049\n",
      "[311]\ttrain-mlogloss:0.74861\teval-mlogloss:0.86052\n",
      "[312]\ttrain-mlogloss:0.74839\teval-mlogloss:0.86037\n",
      "[313]\ttrain-mlogloss:0.74806\teval-mlogloss:0.86019\n",
      "[314]\ttrain-mlogloss:0.74798\teval-mlogloss:0.86021\n",
      "[315]\ttrain-mlogloss:0.74789\teval-mlogloss:0.86035\n",
      "[316]\ttrain-mlogloss:0.74763\teval-mlogloss:0.86052\n",
      "[317]\ttrain-mlogloss:0.74738\teval-mlogloss:0.86067\n"
     ]
    },
    {
     "name": "stdout",
     "output_type": "stream",
     "text": [
      "[318]\ttrain-mlogloss:0.74700\teval-mlogloss:0.86058\n",
      "[319]\ttrain-mlogloss:0.74672\teval-mlogloss:0.86047\n",
      "[320]\ttrain-mlogloss:0.74629\teval-mlogloss:0.86025\n",
      "[321]\ttrain-mlogloss:0.74601\teval-mlogloss:0.86018\n",
      "[322]\ttrain-mlogloss:0.74574\teval-mlogloss:0.86034\n",
      "[323]\ttrain-mlogloss:0.74549\teval-mlogloss:0.86056\n",
      "[324]\ttrain-mlogloss:0.74525\teval-mlogloss:0.86064\n",
      "[325]\ttrain-mlogloss:0.74494\teval-mlogloss:0.86072\n",
      "[326]\ttrain-mlogloss:0.74476\teval-mlogloss:0.86079\n",
      "[327]\ttrain-mlogloss:0.74465\teval-mlogloss:0.86076\n",
      "[328]\ttrain-mlogloss:0.74446\teval-mlogloss:0.86080\n",
      "[329]\ttrain-mlogloss:0.74430\teval-mlogloss:0.86086\n",
      "[330]\ttrain-mlogloss:0.74396\teval-mlogloss:0.86080\n",
      "[331]\ttrain-mlogloss:0.74369\teval-mlogloss:0.86068\n",
      "[332]\ttrain-mlogloss:0.74337\teval-mlogloss:0.86059\n",
      "[333]\ttrain-mlogloss:0.74306\teval-mlogloss:0.86049\n",
      "[334]\ttrain-mlogloss:0.74276\teval-mlogloss:0.86056\n",
      "[335]\ttrain-mlogloss:0.74235\teval-mlogloss:0.86050\n",
      "[336]\ttrain-mlogloss:0.74212\teval-mlogloss:0.86048\n",
      "[337]\ttrain-mlogloss:0.74189\teval-mlogloss:0.86064\n",
      "[338]\ttrain-mlogloss:0.74167\teval-mlogloss:0.86060\n",
      "[339]\ttrain-mlogloss:0.74138\teval-mlogloss:0.86072\n",
      "[340]\ttrain-mlogloss:0.74105\teval-mlogloss:0.86079\n",
      "[341]\ttrain-mlogloss:0.74074\teval-mlogloss:0.86089\n",
      "[342]\ttrain-mlogloss:0.74032\teval-mlogloss:0.86106\n",
      "[343]\ttrain-mlogloss:0.74007\teval-mlogloss:0.86096\n",
      "[344]\ttrain-mlogloss:0.73973\teval-mlogloss:0.86105\n",
      "[345]\ttrain-mlogloss:0.73954\teval-mlogloss:0.86109\n",
      "[346]\ttrain-mlogloss:0.73928\teval-mlogloss:0.86101\n",
      "[347]\ttrain-mlogloss:0.73907\teval-mlogloss:0.86116\n",
      "[348]\ttrain-mlogloss:0.73891\teval-mlogloss:0.86111\n",
      "[349]\ttrain-mlogloss:0.73877\teval-mlogloss:0.86108\n",
      "[350]\ttrain-mlogloss:0.73873\teval-mlogloss:0.86115\n",
      "[351]\ttrain-mlogloss:0.73860\teval-mlogloss:0.86123\n",
      "[352]\ttrain-mlogloss:0.73843\teval-mlogloss:0.86131\n",
      "[353]\ttrain-mlogloss:0.73820\teval-mlogloss:0.86121\n",
      "[354]\ttrain-mlogloss:0.73808\teval-mlogloss:0.86132\n",
      "[355]\ttrain-mlogloss:0.73793\teval-mlogloss:0.86144\n",
      "[356]\ttrain-mlogloss:0.73774\teval-mlogloss:0.86164\n",
      "[357]\ttrain-mlogloss:0.73735\teval-mlogloss:0.86164\n",
      "[358]\ttrain-mlogloss:0.73719\teval-mlogloss:0.86172\n",
      "[359]\ttrain-mlogloss:0.73699\teval-mlogloss:0.86173\n",
      "[360]\ttrain-mlogloss:0.73683\teval-mlogloss:0.86176\n",
      "[361]\ttrain-mlogloss:0.73665\teval-mlogloss:0.86178\n",
      "[362]\ttrain-mlogloss:0.73648\teval-mlogloss:0.86181\n",
      "[363]\ttrain-mlogloss:0.73631\teval-mlogloss:0.86183\n",
      "[364]\ttrain-mlogloss:0.73605\teval-mlogloss:0.86181\n",
      "[365]\ttrain-mlogloss:0.73588\teval-mlogloss:0.86192\n",
      "[366]\ttrain-mlogloss:0.73565\teval-mlogloss:0.86192\n",
      "[367]\ttrain-mlogloss:0.73541\teval-mlogloss:0.86183\n",
      "[368]\ttrain-mlogloss:0.73511\teval-mlogloss:0.86174\n",
      "[369]\ttrain-mlogloss:0.73487\teval-mlogloss:0.86183\n",
      "[370]\ttrain-mlogloss:0.73465\teval-mlogloss:0.86190\n",
      "[371]\ttrain-mlogloss:0.73438\teval-mlogloss:0.86188\n",
      "[372]\ttrain-mlogloss:0.73405\teval-mlogloss:0.86200\n",
      "[373]\ttrain-mlogloss:0.73364\teval-mlogloss:0.86197\n",
      "[374]\ttrain-mlogloss:0.73333\teval-mlogloss:0.86209\n",
      "[375]\ttrain-mlogloss:0.73303\teval-mlogloss:0.86228\n",
      "[376]\ttrain-mlogloss:0.73279\teval-mlogloss:0.86212\n",
      "[377]\ttrain-mlogloss:0.73254\teval-mlogloss:0.86211\n",
      "[378]\ttrain-mlogloss:0.73232\teval-mlogloss:0.86217\n",
      "[379]\ttrain-mlogloss:0.73204\teval-mlogloss:0.86208\n",
      "[380]\ttrain-mlogloss:0.73179\teval-mlogloss:0.86198\n",
      "[381]\ttrain-mlogloss:0.73151\teval-mlogloss:0.86199\n",
      "[382]\ttrain-mlogloss:0.73116\teval-mlogloss:0.86199\n",
      "[383]\ttrain-mlogloss:0.73077\teval-mlogloss:0.86202\n",
      "[384]\ttrain-mlogloss:0.73041\teval-mlogloss:0.86194\n",
      "[385]\ttrain-mlogloss:0.73020\teval-mlogloss:0.86214\n",
      "[386]\ttrain-mlogloss:0.72995\teval-mlogloss:0.86233\n",
      "[387]\ttrain-mlogloss:0.72969\teval-mlogloss:0.86233\n",
      "[388]\ttrain-mlogloss:0.72944\teval-mlogloss:0.86243\n",
      "[389]\ttrain-mlogloss:0.72927\teval-mlogloss:0.86245\n",
      "[390]\ttrain-mlogloss:0.72887\teval-mlogloss:0.86241\n",
      "[391]\ttrain-mlogloss:0.72877\teval-mlogloss:0.86250\n",
      "[392]\ttrain-mlogloss:0.72864\teval-mlogloss:0.86253\n",
      "[393]\ttrain-mlogloss:0.72843\teval-mlogloss:0.86249\n",
      "[394]\ttrain-mlogloss:0.72821\teval-mlogloss:0.86250\n",
      "[395]\ttrain-mlogloss:0.72783\teval-mlogloss:0.86237\n",
      "[396]\ttrain-mlogloss:0.72768\teval-mlogloss:0.86239\n",
      "[397]\ttrain-mlogloss:0.72738\teval-mlogloss:0.86240\n",
      "[398]\ttrain-mlogloss:0.72715\teval-mlogloss:0.86236\n",
      "[399]\ttrain-mlogloss:0.72696\teval-mlogloss:0.86228\n"
     ]
    }
   ],
   "source": [
    "#제출용 답안에 컬럼[0, 1, 2]의 모든 row을 0으로 초기화\n",
    "sub=np.zeros((X_test.shape[0], 3))\n",
    "    \n",
    "wlist = [(dtrain, 'train'), (dtest,'eval')]\n",
    "\n",
    "# 하이퍼 파라미터와 early stopping 파라미터를 train() 함수의 파라미터로 전달\n",
    "xgb_model = xgb.train(params = params, dtrain=dtrain, num_boost_round=num_rounds, evals=wlist)\n",
    "\n",
    "predictions = np.round(xgb_model.predict(dtest), 3)\n",
    "sub = np.round(xgb_model.predict(dtest), 3)"
   ]
  },
  {
   "cell_type": "code",
   "execution_count": 148,
   "metadata": {},
   "outputs": [
    {
     "name": "stdout",
     "output_type": "stream",
     "text": [
      "predict() 수행 결과값을 10개 표시, 예측 확률 값으로 표시\n",
      "[2. 2. 2. ... 2. 0. 2.]\n"
     ]
    }
   ],
   "source": [
    "print('predict() 수행 결과값을 10개 표시, 예측 확률 값으로 표시')\n",
    "print(sub)"
   ]
  },
  {
   "cell_type": "code",
   "execution_count": 149,
   "metadata": {},
   "outputs": [
    {
     "data": {
      "text/html": [
       "<div>\n",
       "<style scoped>\n",
       "    .dataframe tbody tr th:only-of-type {\n",
       "        vertical-align: middle;\n",
       "    }\n",
       "\n",
       "    .dataframe tbody tr th {\n",
       "        vertical-align: top;\n",
       "    }\n",
       "\n",
       "    .dataframe thead th {\n",
       "        text-align: right;\n",
       "    }\n",
       "</style>\n",
       "<table border=\"1\" class=\"dataframe\">\n",
       "  <thead>\n",
       "    <tr style=\"text-align: right;\">\n",
       "      <th></th>\n",
       "      <th>prediction</th>\n",
       "      <th>ground_truth</th>\n",
       "    </tr>\n",
       "  </thead>\n",
       "  <tbody>\n",
       "    <tr>\n",
       "      <th>0</th>\n",
       "      <td>2.0</td>\n",
       "      <td>2.0</td>\n",
       "    </tr>\n",
       "    <tr>\n",
       "      <th>1</th>\n",
       "      <td>2.0</td>\n",
       "      <td>2.0</td>\n",
       "    </tr>\n",
       "    <tr>\n",
       "      <th>2</th>\n",
       "      <td>2.0</td>\n",
       "      <td>1.0</td>\n",
       "    </tr>\n",
       "    <tr>\n",
       "      <th>3</th>\n",
       "      <td>2.0</td>\n",
       "      <td>2.0</td>\n",
       "    </tr>\n",
       "    <tr>\n",
       "      <th>4</th>\n",
       "      <td>2.0</td>\n",
       "      <td>2.0</td>\n",
       "    </tr>\n",
       "    <tr>\n",
       "      <th>...</th>\n",
       "      <td>...</td>\n",
       "      <td>...</td>\n",
       "    </tr>\n",
       "    <tr>\n",
       "      <th>2641</th>\n",
       "      <td>2.0</td>\n",
       "      <td>0.0</td>\n",
       "    </tr>\n",
       "    <tr>\n",
       "      <th>2642</th>\n",
       "      <td>1.0</td>\n",
       "      <td>2.0</td>\n",
       "    </tr>\n",
       "    <tr>\n",
       "      <th>2643</th>\n",
       "      <td>2.0</td>\n",
       "      <td>2.0</td>\n",
       "    </tr>\n",
       "    <tr>\n",
       "      <th>2644</th>\n",
       "      <td>0.0</td>\n",
       "      <td>0.0</td>\n",
       "    </tr>\n",
       "    <tr>\n",
       "      <th>2645</th>\n",
       "      <td>2.0</td>\n",
       "      <td>2.0</td>\n",
       "    </tr>\n",
       "  </tbody>\n",
       "</table>\n",
       "<p>2646 rows × 2 columns</p>\n",
       "</div>"
      ],
      "text/plain": [
       "      prediction  ground_truth\n",
       "0            2.0           2.0\n",
       "1            2.0           2.0\n",
       "2            2.0           1.0\n",
       "3            2.0           2.0\n",
       "4            2.0           2.0\n",
       "...          ...           ...\n",
       "2641         2.0           0.0\n",
       "2642         1.0           2.0\n",
       "2643         2.0           2.0\n",
       "2644         0.0           0.0\n",
       "2645         2.0           2.0\n",
       "\n",
       "[2646 rows x 2 columns]"
      ]
     },
     "execution_count": 149,
     "metadata": {},
     "output_type": "execute_result"
    }
   ],
   "source": [
    "#XGBoost 학습방법을 이용하여 test-set의 값을 예측하여 정답과 함께 표시\n",
    "comparison4 = pd.DataFrame({'prediction':sub,\n",
    "                          'ground_truth':Y_test.values.ravel()})\n",
    "comparison4"
   ]
  },
  {
   "cell_type": "code",
   "execution_count": null,
   "metadata": {},
   "outputs": [],
   "source": [
    "#가우시안 나이브 베이즈"
   ]
  },
  {
   "cell_type": "code",
   "execution_count": 150,
   "metadata": {},
   "outputs": [
    {
     "data": {
      "text/plain": [
       "GaussianNB()"
      ]
     },
     "execution_count": 150,
     "metadata": {},
     "output_type": "execute_result"
    }
   ],
   "source": [
    "model = GaussianNB()\n",
    "model.fit(X_train, Y_train)"
   ]
  },
  {
   "cell_type": "code",
   "execution_count": 151,
   "metadata": {},
   "outputs": [
    {
     "name": "stdout",
     "output_type": "stream",
     "text": [
      "              precision    recall  f1-score   support\n",
      "\n",
      "         0.0       0.00      0.00      0.00       306\n",
      "         1.0       0.32      0.04      0.07       636\n",
      "         2.0       0.65      0.97      0.78      1704\n",
      "\n",
      "    accuracy                           0.64      2646\n",
      "   macro avg       0.32      0.34      0.28      2646\n",
      "weighted avg       0.49      0.64      0.52      2646\n",
      "\n"
     ]
    }
   ],
   "source": [
    "expected = Y_test\n",
    "predicted = model.predict(X_test)\n",
    "print(metrics.classification_report(Y_test, predicted))"
   ]
  },
  {
   "cell_type": "code",
   "execution_count": 152,
   "metadata": {},
   "outputs": [
    {
     "data": {
      "text/plain": [
       "0.636432350718065"
      ]
     },
     "execution_count": 152,
     "metadata": {},
     "output_type": "execute_result"
    }
   ],
   "source": [
    "accuracy_score(Y_test, predicted)"
   ]
  },
  {
   "cell_type": "code",
   "execution_count": 153,
   "metadata": {},
   "outputs": [
    {
     "data": {
      "text/html": [
       "<div>\n",
       "<style scoped>\n",
       "    .dataframe tbody tr th:only-of-type {\n",
       "        vertical-align: middle;\n",
       "    }\n",
       "\n",
       "    .dataframe tbody tr th {\n",
       "        vertical-align: top;\n",
       "    }\n",
       "\n",
       "    .dataframe thead th {\n",
       "        text-align: right;\n",
       "    }\n",
       "</style>\n",
       "<table border=\"1\" class=\"dataframe\">\n",
       "  <thead>\n",
       "    <tr style=\"text-align: right;\">\n",
       "      <th></th>\n",
       "      <th>prediction</th>\n",
       "      <th>ground_truth</th>\n",
       "    </tr>\n",
       "  </thead>\n",
       "  <tbody>\n",
       "    <tr>\n",
       "      <th>0</th>\n",
       "      <td>2.0</td>\n",
       "      <td>2.0</td>\n",
       "    </tr>\n",
       "    <tr>\n",
       "      <th>1</th>\n",
       "      <td>2.0</td>\n",
       "      <td>2.0</td>\n",
       "    </tr>\n",
       "    <tr>\n",
       "      <th>2</th>\n",
       "      <td>2.0</td>\n",
       "      <td>1.0</td>\n",
       "    </tr>\n",
       "    <tr>\n",
       "      <th>3</th>\n",
       "      <td>2.0</td>\n",
       "      <td>2.0</td>\n",
       "    </tr>\n",
       "    <tr>\n",
       "      <th>4</th>\n",
       "      <td>2.0</td>\n",
       "      <td>2.0</td>\n",
       "    </tr>\n",
       "    <tr>\n",
       "      <th>...</th>\n",
       "      <td>...</td>\n",
       "      <td>...</td>\n",
       "    </tr>\n",
       "    <tr>\n",
       "      <th>2641</th>\n",
       "      <td>2.0</td>\n",
       "      <td>0.0</td>\n",
       "    </tr>\n",
       "    <tr>\n",
       "      <th>2642</th>\n",
       "      <td>2.0</td>\n",
       "      <td>2.0</td>\n",
       "    </tr>\n",
       "    <tr>\n",
       "      <th>2643</th>\n",
       "      <td>2.0</td>\n",
       "      <td>2.0</td>\n",
       "    </tr>\n",
       "    <tr>\n",
       "      <th>2644</th>\n",
       "      <td>2.0</td>\n",
       "      <td>0.0</td>\n",
       "    </tr>\n",
       "    <tr>\n",
       "      <th>2645</th>\n",
       "      <td>2.0</td>\n",
       "      <td>2.0</td>\n",
       "    </tr>\n",
       "  </tbody>\n",
       "</table>\n",
       "<p>2646 rows × 2 columns</p>\n",
       "</div>"
      ],
      "text/plain": [
       "      prediction  ground_truth\n",
       "0            2.0           2.0\n",
       "1            2.0           2.0\n",
       "2            2.0           1.0\n",
       "3            2.0           2.0\n",
       "4            2.0           2.0\n",
       "...          ...           ...\n",
       "2641         2.0           0.0\n",
       "2642         2.0           2.0\n",
       "2643         2.0           2.0\n",
       "2644         2.0           0.0\n",
       "2645         2.0           2.0\n",
       "\n",
       "[2646 rows x 2 columns]"
      ]
     },
     "execution_count": 153,
     "metadata": {},
     "output_type": "execute_result"
    }
   ],
   "source": [
    "#가우시안 나이브 베이즈 학습방법을 이용하여 test-set의 값을 예측하여 정답과 함께 표시\n",
    "comparison5 = pd.DataFrame({'prediction':predicted,\n",
    "                          'ground_truth':Y_test.values.ravel()})\n",
    "comparison5"
   ]
  },
  {
   "cell_type": "markdown",
   "metadata": {},
   "source": [
    "#앙상블"
   ]
  },
  {
   "cell_type": "code",
   "execution_count": 128,
   "metadata": {},
   "outputs": [
    {
     "name": "stdout",
     "output_type": "stream",
     "text": [
      "[accuracy]\n",
      "d-tree:  0.6118669690098262\n",
      "knn   :  0.6118669690098262\n",
      "svm   :  0.6118669690098262\n"
     ]
    }
   ],
   "source": [
    "dtree = tree.DecisionTreeClassifier(criterion=\"gini\", max_depth=8,\n",
    "                                   max_features=17, random_state=35)\n",
    "dtree = dtree.fit(x_train, y_train)\n",
    "dtree_predicted = dtree.predict(x_test)\n",
    "\n",
    "knn = KNeighborsClassifier(n_neighbors=299).fit(x_train, y_train)\n",
    "knn_predicted = knn.predict(x_test)\n",
    "\n",
    "svm = SVC(C=0.1, gamma=0.003, probability=True, random_state=35).fit(x_train, y_train)\n",
    "svm_predicted = svm.predict(x_test)\n",
    "print(\"[accuracy]\")\n",
    "print(\"d-tree: \", accuracy_score(y_test, dtree_predicted))\n",
    "print(\"knn   : \", accuracy_score(y_test, knn_predicted))\n",
    "print(\"svm   : \", accuracy_score(y_test, svm_predicted))"
   ]
  },
  {
   "cell_type": "code",
   "execution_count": 129,
   "metadata": {},
   "outputs": [
    {
     "name": "stdout",
     "output_type": "stream",
     "text": [
      "[[0.1263127  0.23373029 0.63995702]\n",
      " [0.12642144 0.21995392 0.65362464]]\n"
     ]
    }
   ],
   "source": [
    "svm_proba = svm.predict_proba(x_test)\n",
    "print(svm_proba[0:2])"
   ]
  },
  {
   "cell_type": "code",
   "execution_count": 135,
   "metadata": {},
   "outputs": [
    {
     "data": {
      "text/plain": [
       "0.6118669690098262"
      ]
     },
     "execution_count": 135,
     "metadata": {},
     "output_type": "execute_result"
    }
   ],
   "source": [
    "#하드 보팅\n",
    "voting_clf = VotingClassifier(estimators=[\n",
    "    ('decision_tree', dtree), ('knn', knn), ('svm', svm)],\n",
    "    weights=[1,1,1], voting='hard').fit(x_train, y_train)\n",
    "\n",
    "hard_voting_predicted = voting_clf.predict(x_test)\n",
    "accuracy_score(y_test, hard_voting_predicted)"
   ]
  },
  {
   "cell_type": "code",
   "execution_count": 136,
   "metadata": {},
   "outputs": [
    {
     "data": {
      "text/plain": [
       "0.6111111111111112"
      ]
     },
     "execution_count": 136,
     "metadata": {},
     "output_type": "execute_result"
    }
   ],
   "source": [
    "#소프트 보팅\n",
    "voting_clf = VotingClassifier(estimators=[\n",
    "    ('decision_tree', dtree), ('knn', knn), ('svm', svm)],\n",
    "    weights=[1,1,1], voting='soft').fit(x_train, y_train)\n",
    "\n",
    "soft_voting_predicted = voting_clf.predict(x_test)\n",
    "accuracy_score(y_test, soft_voting_predicted)"
   ]
  },
  {
   "cell_type": "code",
   "execution_count": 137,
   "metadata": {},
   "outputs": [
    {
     "data": {
      "image/png": "[encoded data removed]",
      "text/plain": [
       "<Figure size 432x288 with 1 Axes>"
      ]
     },
     "metadata": {
      "needs_background": "light"
     },
     "output_type": "display_data"
    }
   ],
   "source": [
    "x = np.arange(5)\n",
    "plt.bar(x, height= [accuracy_score(y_test, dtree_predicted),\n",
    "                    accuracy_score(y_test, knn_predicted),\n",
    "                    accuracy_score(y_test, svm_predicted),\n",
    "                    accuracy_score(y_test, hard_voting_predicted),\n",
    "                    accuracy_score(y_test, soft_voting_predicted)])\n",
    "plt.xticks(x, ['decision tree','knn','svm','hard voting','soft voting']);"
   ]
  }
 ],
 "metadata": {
  "kernelspec": {
   "display_name": "Python 3",
   "language": "python",
   "name": "python3"
  },
  "language_info": {
   "codemirror_mode": {
    "name": "ipython",
    "version": 3
   },
   "file_extension": ".py",
   "mimetype": "text/x-python",
   "name": "python",
   "nbconvert_exporter": "python",
   "pygments_lexer": "ipython3",
   "version": "3.7.0"
  }
 },
 "nbformat": 4,
 "nbformat_minor": 2
}
