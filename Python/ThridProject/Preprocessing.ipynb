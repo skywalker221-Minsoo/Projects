{
 "cells": [
  {
   "cell_type": "code",
   "execution_count": 55,
   "metadata": {},
   "outputs": [],
   "source": [
    "import pandas as pd\n",
    "import numpy as np\n",
    "import matplotlib.pyplot as plt\n",
    "import seaborn as sns"
   ]
  },
  {
   "cell_type": "code",
   "execution_count": 56,
   "metadata": {},
   "outputs": [],
   "source": [
    "data = pd.read_csv('C:/Users/User/Desktop/open/train2.csv')"
   ]
  },
  {
   "cell_type": "code",
   "execution_count": 57,
   "metadata": {},
   "outputs": [],
   "source": [
    "gen = pd.get_dummies(data['gender'], prefix='gender')"
   ]
  },
  {
   "cell_type": "code",
   "execution_count": 58,
   "metadata": {},
   "outputs": [],
   "source": [
    "car = pd.get_dummies(data['car'], prefix='car')"
   ]
  },
  {
   "cell_type": "code",
   "execution_count": 59,
   "metadata": {},
   "outputs": [],
   "source": [
    "reality = pd.get_dummies(data['reality'], prefix='reality')"
   ]
  },
  {
   "cell_type": "code",
   "execution_count": 60,
   "metadata": {},
   "outputs": [],
   "source": [
    "child_num = pd.get_dummies(data['child_num'], prefix='child_num')"
   ]
  },
  {
   "cell_type": "code",
   "execution_count": 61,
   "metadata": {},
   "outputs": [],
   "source": [
    "income_total = pd.get_dummies(data['income_total'], prefix='income_total')"
   ]
  },
  {
   "cell_type": "code",
   "execution_count": 62,
   "metadata": {},
   "outputs": [],
   "source": [
    "income_type = pd.get_dummies(data['income_type'], prefix='income_type')"
   ]
  },
  {
   "cell_type": "code",
   "execution_count": 63,
   "metadata": {},
   "outputs": [],
   "source": [
    "edu_type = pd.get_dummies(data['edu_type'], prefix='edu_type')"
   ]
  },
  {
   "cell_type": "code",
   "execution_count": 64,
   "metadata": {},
   "outputs": [],
   "source": [
    "family_type = pd.get_dummies(data['family_type'], prefix='family_type')"
   ]
  },
  {
   "cell_type": "code",
   "execution_count": 65,
   "metadata": {},
   "outputs": [],
   "source": [
    "house_type = pd.get_dummies(data['house_type'], prefix='house_type')"
   ]
  },
  {
   "cell_type": "code",
   "execution_count": 66,
   "metadata": {},
   "outputs": [],
   "source": [
    "DAYS_BIRTH = pd.get_dummies(data['DAYS_BIRTH'], prefix='DAYS_BIRTH')"
   ]
  },
  {
   "cell_type": "code",
   "execution_count": 67,
   "metadata": {},
   "outputs": [],
   "source": [
    "DAYS_EMPLOYED = pd.get_dummies(data['DAYS_EMPLOYED'], prefix='DAYS_EMPLOYED')"
   ]
  },
  {
   "cell_type": "code",
   "execution_count": 68,
   "metadata": {},
   "outputs": [],
   "source": [
    "work_phone = pd.get_dummies(data['work_phone'], prefix='work_phone')"
   ]
  },
  {
   "cell_type": "code",
   "execution_count": 69,
   "metadata": {},
   "outputs": [],
   "source": [
    "phone = pd.get_dummies(data['phone'], prefix='phone')"
   ]
  },
  {
   "cell_type": "code",
   "execution_count": 70,
   "metadata": {},
   "outputs": [],
   "source": [
    "email = pd.get_dummies(data['email'], prefix='email')"
   ]
  },
  {
   "cell_type": "code",
   "execution_count": 71,
   "metadata": {},
   "outputs": [],
   "source": [
    "family_size = pd.get_dummies(data['family_size'], prefix='family_size')"
   ]
  },
  {
   "cell_type": "code",
   "execution_count": 72,
   "metadata": {},
   "outputs": [],
   "source": [
    "begin_month = pd.get_dummies(data['begin_month'], prefix='begin_month')"
   ]
  },
  {
   "cell_type": "code",
   "execution_count": 73,
   "metadata": {},
   "outputs": [],
   "source": [
    "data1 = pd.merge(gen, car, on=gen.index)\n",
    "data1 = data1.drop('key_0', axis=1)\n",
    "data1 = pd.merge(data1, reality, on=data1.index)\n",
    "data1 = data1.drop('key_0', axis=1)\n",
    "data1 = pd.merge(data1, child_num, on=data1.index)\n",
    "data1 = data1.drop('key_0', axis=1)\n",
    "data1 = pd.merge(data1, income_total, on=data1.index)\n",
    "data1 = data1.drop('key_0', axis=1)\n",
    "data1 = pd.merge(data1, income_type, on=data1.index)\n",
    "data1 = data1.drop('key_0', axis=1)\n",
    "data1 = pd.merge(data1, edu_type, on=data1.index)\n",
    "data1 = data1.drop('key_0', axis=1)\n",
    "data1 = pd.merge(data1, family_type, on=data1.index)\n",
    "data1 = data1.drop('key_0', axis=1)\n",
    "data1 = pd.merge(data1, house_type, on=data1.index)\n",
    "data1 = data1.drop('key_0', axis=1)\n",
    "data1 = pd.merge(data1, DAYS_BIRTH, on=data1.index)\n",
    "data1 = data1.drop('key_0', axis=1)\n",
    "data1 = pd.merge(data1, DAYS_EMPLOYED, on=data1.index)\n",
    "data1 = data1.drop('key_0', axis=1)\n",
    "data1 = pd.merge(data1, work_phone, on=data1.index)\n",
    "data1 = data1.drop('key_0', axis=1)\n",
    "data1 = pd.merge(data1, phone, on=data1.index)\n",
    "data1 = data1.drop('key_0', axis=1)\n",
    "data1 = pd.merge(data1, email, on=data1.index)\n",
    "data1 = data1.drop('key_0', axis=1)\n",
    "data1 = pd.merge(data1, family_size, on=data1.index)\n",
    "data1 = data1.drop('key_0', axis=1)\n",
    "data1 = pd.merge(data1, begin_month, on=data1.index)\n",
    "data1 = data1.drop('key_0', axis=1)"
   ]
  },
  {
   "cell_type": "code",
   "execution_count": 74,
   "metadata": {},
   "outputs": [],
   "source": [
    "data1.to_csv(\"C:/Users/User/Desktop/open/dummy.csv\", header=True, index=True)"
   ]
  }
 ],
 "metadata": {
  "kernelspec": {
   "display_name": "Python 3",
   "language": "python",
   "name": "python3"
  },
  "language_info": {
   "codemirror_mode": {
    "name": "ipython",
    "version": 3
   },
   "file_extension": ".py",
   "mimetype": "text/x-python",
   "name": "python",
   "nbconvert_exporter": "python",
   "pygments_lexer": "ipython3",
   "version": "3.7.0"
  }
 },
 "nbformat": 4,
 "nbformat_minor": 4
}
